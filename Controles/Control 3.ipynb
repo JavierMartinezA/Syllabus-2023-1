{
  "nbformat": 4,
  "nbformat_minor": 0,
  "metadata": {
    "colab": {
      "provenance": []
    },
    "kernelspec": {
      "name": "python3",
      "display_name": "Python 3"
    },
    "language_info": {
      "name": "python"
    }
  },
  "cells": [
    {
      "cell_type": "markdown",
      "source": [
        "# Descarga de datos"
      ],
      "metadata": {
        "id": "LrkD-O27_uMb"
      }
    },
    {
      "cell_type": "code",
      "source": [
        "from google.colab import output\n",
        "!pip install gdown\n",
        "!gdown https://drive.google.com/uc?id=1L5kNJEwRRlNtBvXVt4KZB0EiTQk23iaV # pokedex_processed.csv\n",
        "!gdown https://drive.google.com/uc?id=19dw2vVgF6pht_-GF5_IvxrVLOSkT8kCQ # pokedex_processed.json\n",
        "output.clear()"
      ],
      "metadata": {
        "id": "49NvaucrxgAx"
      },
      "execution_count": 14,
      "outputs": []
    },
    {
      "cell_type": "markdown",
      "source": [
        "# Datos\n",
        "\n",
        "Los datos corresponden al mundo de _Pokémon_ separado en dos bases de datos: Una relacional SQL (PostgreSQL) y otra de documentos NoSQL (MongoDB). Ambas son levantadas dentro del entorno de ejecución del notebook en Google Colab.\n",
        "\n",
        "A continuación se crea y describe a cada una:"
      ],
      "metadata": {
        "id": "91HdJj2_njyA"
      }
    },
    {
      "cell_type": "markdown",
      "source": [
        "# PostgreSQL\n",
        "\n",
        "Cada columna de la tabla de pokedex se describe a continuación:\n",
        "\n",
        "```text\n",
        "###################\n",
        "## Tabla pokedex ##\n",
        "###################\n",
        "\n",
        "Id           : (int) Identificador único en el Pokédex\n",
        "Name         : (str) Nombre del Pokémon\n",
        "Category     : (str) La \"especie\" del Pokémon (en Pokémon Sol y Luna)\n",
        "Height (m)   : (int) Altura en metros\n",
        "Weight (kg)  : (int) Masa en kilogramos\n",
        "Capture Rate : (int) Cuantifica la probabilidad de capturar al Pokémon (a mayor valor, más probable).\n",
        "Egg Steps    : (int) Cuantifica el número de pasos que requiere en el juego para salir de un huevo.\n",
        "Exp Group    : (str) Categoría que determina cuanta experiencia necesita para subir de nivel.\n",
        "HP           : (int) Vida\n",
        "Attack       : (int) Ataque\n",
        "Defense      : (int) Defensa\n",
        "Sp. Attack   : (int) Ataque Especial\n",
        "Sp. Defense  : (int) Defensa Especial\n",
        "Speed        : (int) Velocidad\n",
        "\n",
        "```"
      ],
      "metadata": {
        "id": "rzyH3vy1vmAr"
      }
    },
    {
      "cell_type": "code",
      "execution_count": null,
      "metadata": {
        "id": "Gy0QSzg_nLyx"
      },
      "outputs": [],
      "source": [
        "# install\n",
        "!apt update\n",
        "!apt install postgresql postgresql-contrib &>log\n",
        "!service postgresql start\n",
        "!sudo -u postgres psql -c \"CREATE USER root WITH SUPERUSER\"\n",
        "# pin package versions for google colab compatibility\n",
        "!pip install SQLAlchemy==1.4.46\n",
        "!pip install ipython-sql==0.4.1\n",
        "# set connection\n",
        "%load_ext sql\n",
        "%config SqlMagic.feedback=False\n",
        "%config SqlMagic.autopandas=True\n",
        "%config SqlMagic.displaycon = False\n",
        "%sql postgresql+psycopg2://@/postgres\n",
        "output.clear()"
      ]
    },
    {
      "cell_type": "code",
      "source": [
        "import pandas as pd\n",
        "from sqlalchemy import create_engine\n",
        "engine = create_engine(\"postgresql+psycopg2://@/postgres\", echo=False)\n",
        "df_pokedex = pd.read_csv(\"pokedex_processed.csv\", index_col=False)\n",
        "df_pokedex.to_sql(\"pokedex\", con=engine, if_exists=\"replace\", index=False)"
      ],
      "metadata": {
        "id": "5vJcpsIhT3NL",
        "colab": {
          "base_uri": "https://localhost:8080/"
        },
        "outputId": "d44d7bb4-57e5-4815-c31c-6465b754bb36"
      },
      "execution_count": 16,
      "outputs": [
        {
          "output_type": "execute_result",
          "data": {
            "text/plain": [
              "809"
            ]
          },
          "metadata": {},
          "execution_count": 16
        }
      ]
    },
    {
      "cell_type": "code",
      "source": [
        "%%sql\n",
        "SELECT *\n",
        "FROM pokedex\n",
        "LIMIT 10"
      ],
      "metadata": {
        "colab": {
          "base_uri": "https://localhost:8080/",
          "height": 407
        },
        "id": "L_3X_BE4Rr0q",
        "outputId": "e50d918a-8a39-4c93-c7c8-fdf83b080374"
      },
      "execution_count": null,
      "outputs": [
        {
          "output_type": "execute_result",
          "data": {
            "text/plain": [
              "   Id        Name             Category  Height (m)  Weight (kg)  Capture Rate  \\\n",
              "0   1   Bulbasaur         Seed Pokémon         0.7          6.9            45   \n",
              "1   2     Ivysaur         Seed Pokémon         1.0         13.0            45   \n",
              "2   3    Venusaur         Seed Pokémon         2.0        100.0            45   \n",
              "3   4  Charmander       Lizard Pokémon         0.6          8.5            45   \n",
              "4   5  Charmeleon        Flame Pokémon         1.1         19.0            45   \n",
              "5   6   Charizard        Flame Pokémon         1.7         90.5            45   \n",
              "6   7    Squirtle  Tiny Turtle Pokémon         0.5          9.0            45   \n",
              "7   8   Wartortle       Turtle Pokémon         1.0         22.5            45   \n",
              "8   9   Blastoise    Shellfish Pokémon         1.6         85.5            45   \n",
              "9  10    Caterpie         Worm Pokémon         0.3          2.9           255   \n",
              "\n",
              "   Egg Steps    Exp Group  HP  Attack  Defense  Sp. Attack  Sp. Defense  Speed  \n",
              "0       5120  Medium Slow  45      49       49          65           65     45  \n",
              "1       5120  Medium Slow  60      62       63          80           80     60  \n",
              "2       5120  Medium Slow  80      82       83         100          100     80  \n",
              "3       5120  Medium Slow  39      52       43          60           50     65  \n",
              "4       5120  Medium Slow  58      64       58          80           65     80  \n",
              "5       5120  Medium Slow  78      84       78         109           85    100  \n",
              "6       5120  Medium Slow  44      48       65          50           64     43  \n",
              "7       5120  Medium Slow  59      63       80          65           80     58  \n",
              "8       5120  Medium Slow  79      83      100          85          105     78  \n",
              "9       3840  Medium Fast  45      30       35          20           20     45  "
            ],
            "text/html": [
              "\n",
              "  <div id=\"df-85129ba8-352d-49dc-929b-51c0947f5cf0\">\n",
              "    <div class=\"colab-df-container\">\n",
              "      <div>\n",
              "<style scoped>\n",
              "    .dataframe tbody tr th:only-of-type {\n",
              "        vertical-align: middle;\n",
              "    }\n",
              "\n",
              "    .dataframe tbody tr th {\n",
              "        vertical-align: top;\n",
              "    }\n",
              "\n",
              "    .dataframe thead th {\n",
              "        text-align: right;\n",
              "    }\n",
              "</style>\n",
              "<table border=\"1\" class=\"dataframe\">\n",
              "  <thead>\n",
              "    <tr style=\"text-align: right;\">\n",
              "      <th></th>\n",
              "      <th>Id</th>\n",
              "      <th>Name</th>\n",
              "      <th>Category</th>\n",
              "      <th>Height (m)</th>\n",
              "      <th>Weight (kg)</th>\n",
              "      <th>Capture Rate</th>\n",
              "      <th>Egg Steps</th>\n",
              "      <th>Exp Group</th>\n",
              "      <th>HP</th>\n",
              "      <th>Attack</th>\n",
              "      <th>Defense</th>\n",
              "      <th>Sp. Attack</th>\n",
              "      <th>Sp. Defense</th>\n",
              "      <th>Speed</th>\n",
              "    </tr>\n",
              "  </thead>\n",
              "  <tbody>\n",
              "    <tr>\n",
              "      <th>0</th>\n",
              "      <td>1</td>\n",
              "      <td>Bulbasaur</td>\n",
              "      <td>Seed Pokémon</td>\n",
              "      <td>0.7</td>\n",
              "      <td>6.9</td>\n",
              "      <td>45</td>\n",
              "      <td>5120</td>\n",
              "      <td>Medium Slow</td>\n",
              "      <td>45</td>\n",
              "      <td>49</td>\n",
              "      <td>49</td>\n",
              "      <td>65</td>\n",
              "      <td>65</td>\n",
              "      <td>45</td>\n",
              "    </tr>\n",
              "    <tr>\n",
              "      <th>1</th>\n",
              "      <td>2</td>\n",
              "      <td>Ivysaur</td>\n",
              "      <td>Seed Pokémon</td>\n",
              "      <td>1.0</td>\n",
              "      <td>13.0</td>\n",
              "      <td>45</td>\n",
              "      <td>5120</td>\n",
              "      <td>Medium Slow</td>\n",
              "      <td>60</td>\n",
              "      <td>62</td>\n",
              "      <td>63</td>\n",
              "      <td>80</td>\n",
              "      <td>80</td>\n",
              "      <td>60</td>\n",
              "    </tr>\n",
              "    <tr>\n",
              "      <th>2</th>\n",
              "      <td>3</td>\n",
              "      <td>Venusaur</td>\n",
              "      <td>Seed Pokémon</td>\n",
              "      <td>2.0</td>\n",
              "      <td>100.0</td>\n",
              "      <td>45</td>\n",
              "      <td>5120</td>\n",
              "      <td>Medium Slow</td>\n",
              "      <td>80</td>\n",
              "      <td>82</td>\n",
              "      <td>83</td>\n",
              "      <td>100</td>\n",
              "      <td>100</td>\n",
              "      <td>80</td>\n",
              "    </tr>\n",
              "    <tr>\n",
              "      <th>3</th>\n",
              "      <td>4</td>\n",
              "      <td>Charmander</td>\n",
              "      <td>Lizard Pokémon</td>\n",
              "      <td>0.6</td>\n",
              "      <td>8.5</td>\n",
              "      <td>45</td>\n",
              "      <td>5120</td>\n",
              "      <td>Medium Slow</td>\n",
              "      <td>39</td>\n",
              "      <td>52</td>\n",
              "      <td>43</td>\n",
              "      <td>60</td>\n",
              "      <td>50</td>\n",
              "      <td>65</td>\n",
              "    </tr>\n",
              "    <tr>\n",
              "      <th>4</th>\n",
              "      <td>5</td>\n",
              "      <td>Charmeleon</td>\n",
              "      <td>Flame Pokémon</td>\n",
              "      <td>1.1</td>\n",
              "      <td>19.0</td>\n",
              "      <td>45</td>\n",
              "      <td>5120</td>\n",
              "      <td>Medium Slow</td>\n",
              "      <td>58</td>\n",
              "      <td>64</td>\n",
              "      <td>58</td>\n",
              "      <td>80</td>\n",
              "      <td>65</td>\n",
              "      <td>80</td>\n",
              "    </tr>\n",
              "    <tr>\n",
              "      <th>5</th>\n",
              "      <td>6</td>\n",
              "      <td>Charizard</td>\n",
              "      <td>Flame Pokémon</td>\n",
              "      <td>1.7</td>\n",
              "      <td>90.5</td>\n",
              "      <td>45</td>\n",
              "      <td>5120</td>\n",
              "      <td>Medium Slow</td>\n",
              "      <td>78</td>\n",
              "      <td>84</td>\n",
              "      <td>78</td>\n",
              "      <td>109</td>\n",
              "      <td>85</td>\n",
              "      <td>100</td>\n",
              "    </tr>\n",
              "    <tr>\n",
              "      <th>6</th>\n",
              "      <td>7</td>\n",
              "      <td>Squirtle</td>\n",
              "      <td>Tiny Turtle Pokémon</td>\n",
              "      <td>0.5</td>\n",
              "      <td>9.0</td>\n",
              "      <td>45</td>\n",
              "      <td>5120</td>\n",
              "      <td>Medium Slow</td>\n",
              "      <td>44</td>\n",
              "      <td>48</td>\n",
              "      <td>65</td>\n",
              "      <td>50</td>\n",
              "      <td>64</td>\n",
              "      <td>43</td>\n",
              "    </tr>\n",
              "    <tr>\n",
              "      <th>7</th>\n",
              "      <td>8</td>\n",
              "      <td>Wartortle</td>\n",
              "      <td>Turtle Pokémon</td>\n",
              "      <td>1.0</td>\n",
              "      <td>22.5</td>\n",
              "      <td>45</td>\n",
              "      <td>5120</td>\n",
              "      <td>Medium Slow</td>\n",
              "      <td>59</td>\n",
              "      <td>63</td>\n",
              "      <td>80</td>\n",
              "      <td>65</td>\n",
              "      <td>80</td>\n",
              "      <td>58</td>\n",
              "    </tr>\n",
              "    <tr>\n",
              "      <th>8</th>\n",
              "      <td>9</td>\n",
              "      <td>Blastoise</td>\n",
              "      <td>Shellfish Pokémon</td>\n",
              "      <td>1.6</td>\n",
              "      <td>85.5</td>\n",
              "      <td>45</td>\n",
              "      <td>5120</td>\n",
              "      <td>Medium Slow</td>\n",
              "      <td>79</td>\n",
              "      <td>83</td>\n",
              "      <td>100</td>\n",
              "      <td>85</td>\n",
              "      <td>105</td>\n",
              "      <td>78</td>\n",
              "    </tr>\n",
              "    <tr>\n",
              "      <th>9</th>\n",
              "      <td>10</td>\n",
              "      <td>Caterpie</td>\n",
              "      <td>Worm Pokémon</td>\n",
              "      <td>0.3</td>\n",
              "      <td>2.9</td>\n",
              "      <td>255</td>\n",
              "      <td>3840</td>\n",
              "      <td>Medium Fast</td>\n",
              "      <td>45</td>\n",
              "      <td>30</td>\n",
              "      <td>35</td>\n",
              "      <td>20</td>\n",
              "      <td>20</td>\n",
              "      <td>45</td>\n",
              "    </tr>\n",
              "  </tbody>\n",
              "</table>\n",
              "</div>\n",
              "      <button class=\"colab-df-convert\" onclick=\"convertToInteractive('df-85129ba8-352d-49dc-929b-51c0947f5cf0')\"\n",
              "              title=\"Convert this dataframe to an interactive table.\"\n",
              "              style=\"display:none;\">\n",
              "        \n",
              "  <svg xmlns=\"http://www.w3.org/2000/svg\" height=\"24px\"viewBox=\"0 0 24 24\"\n",
              "       width=\"24px\">\n",
              "    <path d=\"M0 0h24v24H0V0z\" fill=\"none\"/>\n",
              "    <path d=\"M18.56 5.44l.94 2.06.94-2.06 2.06-.94-2.06-.94-.94-2.06-.94 2.06-2.06.94zm-11 1L8.5 8.5l.94-2.06 2.06-.94-2.06-.94L8.5 2.5l-.94 2.06-2.06.94zm10 10l.94 2.06.94-2.06 2.06-.94-2.06-.94-.94-2.06-.94 2.06-2.06.94z\"/><path d=\"M17.41 7.96l-1.37-1.37c-.4-.4-.92-.59-1.43-.59-.52 0-1.04.2-1.43.59L10.3 9.45l-7.72 7.72c-.78.78-.78 2.05 0 2.83L4 21.41c.39.39.9.59 1.41.59.51 0 1.02-.2 1.41-.59l7.78-7.78 2.81-2.81c.8-.78.8-2.07 0-2.86zM5.41 20L4 18.59l7.72-7.72 1.47 1.35L5.41 20z\"/>\n",
              "  </svg>\n",
              "      </button>\n",
              "      \n",
              "  <style>\n",
              "    .colab-df-container {\n",
              "      display:flex;\n",
              "      flex-wrap:wrap;\n",
              "      gap: 12px;\n",
              "    }\n",
              "\n",
              "    .colab-df-convert {\n",
              "      background-color: #E8F0FE;\n",
              "      border: none;\n",
              "      border-radius: 50%;\n",
              "      cursor: pointer;\n",
              "      display: none;\n",
              "      fill: #1967D2;\n",
              "      height: 32px;\n",
              "      padding: 0 0 0 0;\n",
              "      width: 32px;\n",
              "    }\n",
              "\n",
              "    .colab-df-convert:hover {\n",
              "      background-color: #E2EBFA;\n",
              "      box-shadow: 0px 1px 2px rgba(60, 64, 67, 0.3), 0px 1px 3px 1px rgba(60, 64, 67, 0.15);\n",
              "      fill: #174EA6;\n",
              "    }\n",
              "\n",
              "    [theme=dark] .colab-df-convert {\n",
              "      background-color: #3B4455;\n",
              "      fill: #D2E3FC;\n",
              "    }\n",
              "\n",
              "    [theme=dark] .colab-df-convert:hover {\n",
              "      background-color: #434B5C;\n",
              "      box-shadow: 0px 1px 3px 1px rgba(0, 0, 0, 0.15);\n",
              "      filter: drop-shadow(0px 1px 2px rgba(0, 0, 0, 0.3));\n",
              "      fill: #FFFFFF;\n",
              "    }\n",
              "  </style>\n",
              "\n",
              "      <script>\n",
              "        const buttonEl =\n",
              "          document.querySelector('#df-85129ba8-352d-49dc-929b-51c0947f5cf0 button.colab-df-convert');\n",
              "        buttonEl.style.display =\n",
              "          google.colab.kernel.accessAllowed ? 'block' : 'none';\n",
              "\n",
              "        async function convertToInteractive(key) {\n",
              "          const element = document.querySelector('#df-85129ba8-352d-49dc-929b-51c0947f5cf0');\n",
              "          const dataTable =\n",
              "            await google.colab.kernel.invokeFunction('convertToInteractive',\n",
              "                                                     [key], {});\n",
              "          if (!dataTable) return;\n",
              "\n",
              "          const docLinkHtml = 'Like what you see? Visit the ' +\n",
              "            '<a target=\"_blank\" href=https://colab.research.google.com/notebooks/data_table.ipynb>data table notebook</a>'\n",
              "            + ' to learn more about interactive tables.';\n",
              "          element.innerHTML = '';\n",
              "          dataTable['output_type'] = 'display_data';\n",
              "          await google.colab.output.renderOutput(dataTable, element);\n",
              "          const docLink = document.createElement('div');\n",
              "          docLink.innerHTML = docLinkHtml;\n",
              "          element.appendChild(docLink);\n",
              "        }\n",
              "      </script>\n",
              "    </div>\n",
              "  </div>\n",
              "  "
            ]
          },
          "metadata": {},
          "execution_count": 5
        }
      ]
    },
    {
      "cell_type": "markdown",
      "source": [
        "## MongoDB\n",
        "\n",
        "La colección pokedex tiene documentos con 4 entradas: Un identificador único del pokémon y arreglos con información acerca del mismo. A continuación se detalla cada uno:\n",
        "\n",
        "```text\n",
        "#######################\n",
        "## Colección pokedex ##\n",
        "#######################\n",
        "\n",
        "\"pokemon_id\": : (int)       Número identificador único en el Pokédex\n",
        "\"abilities\"   : (List[str]) Lista de las habilidades del Pokémon\n",
        "\"moves\"       : (List[str]) Lista de los movimientos del Pokémon\n",
        "\"types\"       : (List[str]) Lista de los tipos del Pokémon\n",
        "```"
      ],
      "metadata": {
        "id": "2eJi_0kxYgZ5"
      }
    },
    {
      "cell_type": "code",
      "source": [
        "!apt install mongodb\n",
        "!service mongodb start\n",
        "!pip install pymongo\n",
        "!mongoimport --db local --collection pokedex --jsonArray < 'pokedex_processed.json'\n",
        "output.clear()"
      ],
      "metadata": {
        "id": "t1x82tUDbzFP"
      },
      "execution_count": 89,
      "outputs": []
    },
    {
      "cell_type": "code",
      "source": [
        "from pymongo import MongoClient\n",
        "client = MongoClient()\n",
        "client.list_database_names() # ['admin', 'local']\n",
        "db = client['local']\n",
        "collection = db['pokedex']"
      ],
      "metadata": {
        "id": "nsfUhP4tdbjG"
      },
      "execution_count": 90,
      "outputs": []
    },
    {
      "cell_type": "markdown",
      "source": [
        "Para tener una idea de cómo se ven los datos en la colección, aquí les dejamos impresión del primer Pokemon en la colección:"
      ],
      "metadata": {
        "id": "NVePaOEVbVXN"
      }
    },
    {
      "cell_type": "code",
      "source": [],
      "metadata": {
        "id": "hbvueZMVva62"
      },
      "execution_count": 163,
      "outputs": []
    },
    {
      "cell_type": "markdown",
      "source": [
        "# Preguntas\n",
        "\n",
        "Para resolver estas preguntas será necesario que consultes a `PostgreSQL` y/o `MongoDB`.\n",
        "\n",
        "En este `notebook` puedes almacenar el resultado de una consulta `PostgreSQL` en una variable como un `pandas.DataFrame` de la siguiente forma:\n",
        "\n",
        "```python\n",
        "df = %sql SELECT \"Name\" FROM pokedex WHERE \"Id\" = 99;\n",
        "```"
      ],
      "metadata": {
        "id": "oT0-dqCCqset"
      }
    },
    {
      "cell_type": "code",
      "source": [],
      "metadata": {
        "id": "5wT0U6_W9hIB"
      },
      "execution_count": null,
      "outputs": []
    },
    {
      "cell_type": "markdown",
      "source": [
        "## Pregunta 1\n",
        "Entregue el nombre (name) y la cantidad de habilidades (abilites) de los 10 pokemones más pesados en kilogramos"
      ],
      "metadata": {
        "id": "bhpyZHJkqpU-"
      }
    },
    {
      "cell_type": "code",
      "source": [
        "from pymongo.collection import Collection\n",
        "df = %sql SELECT \"Id\" FROM pokedex ORDER BY \"Weight (kg)\" DESC LIMIT 10;\n",
        "for id in df.Id:\n",
        "  for pokemon in Collection.aggregate([{$match: { \"pokemon_id\": tu_id_deseado }},{$project: {pokemon_id: 1,abilities_count: { $size: \"$abilities\" }}\n",
        "\n",
        "\n",
        "\n"
      ],
      "metadata": {
        "id": "E8jIPueoqqb-",
        "colab": {
          "base_uri": "https://localhost:8080/"
        },
        "outputId": "7f6061df-bd23-4f45-a011-9d59356f5e12"
      },
      "execution_count": 139,
      "outputs": [
        {
          "output_type": "stream",
          "name": "stdout",
          "text": [
            "{'_id': ObjectId('648dee2f6d772428042045e2'), 'pokemon_id': 790, 'abilities': ['Sturdy'], 'moves': ['Cosmic Power is described as The user absorbs a mystical power from space to raise its Defense and Sp. Def stats.', 'Teleport is described as Use it to flee from any wild Pokémon.'], 'types': ['Psychic']}\n",
            "{'_id': ObjectId('648e02e76d77242804204b61'), 'pokemon_id': 790, 'abilities': ['Sturdy'], 'moves': ['Cosmic Power is described as The user absorbs a mystical power from space to raise its Defense and Sp. Def stats.', 'Teleport is described as Use it to flee from any wild Pokémon.'], 'types': ['Psychic']}\n",
            "{'_id': ObjectId('648dee2f6d772428042045ed'), 'pokemon_id': 797, 'abilities': ['Beast Boost'], 'moves': ['Wide Guard is described as The user and its allies are protected from wide-ranging attacks for one turn.', 'Air Slash is described as The user attacks with a blade of air that slices even the sky. This may also make the target flinch.', \"Ingrain is described as The user lays roots that restore its HP on every turn. Because it's rooted, it can't switch out.\", \"Absorb is described as A nutrient-draining attack. The user's HP is restored by half the damage taken by the target.\", 'Harden is described as The user stiffens all the muscles in its body to raise its Defense stat.', 'Tackle is described as A physical attack in which the user charges and slams into the target with its whole body.', \"Smack Down is described as The user throws a stone or similar projectile to attack an opponent. A flying Pokémon will fall to the ground when it's hit.\", \"Mega Drain is described as A nutrient-draining attack. The user's HP is restored by half the damage taken by the target.\", 'Leech Seed is described as A seed is planted on the target. It steals some HP from the target every turn.', \"Metal Sound is described as A horrible sound like scraping metal harshly lowers the target's Sp. Def stat.\", 'Iron Head is described as The user slams the target with its steel-hard head. This may also make the target flinch.', \"Giga Drain is described as A nutrient-draining attack. The user's HP is restored by half the damage taken by the target.\", \"Flash Cannon is described as The user gathers all its light energy and releases it all at once. This may also lower the target's Sp. Def stat.\", 'Autotomize is described as The user sheds part of its body to make itself lighter and sharply raise its Speed stat.', 'Seed Bomb is described as The user slams a barrage of hard-shelled seeds down on the target from above.', 'Skull Bash is described as The user tucks in its head to raise its Defense stat on the first turn, then rams the target on the next turn.', \"Iron Defense is described as The user hardens its body's surface like iron, sharply raising its Defense stat.\", \"Heavy Slam is described as The user slams into the target with its heavy body. The more the user outweighs the target, the greater the move's power.\", 'Double-Edge is described as A reckless, life-risking tackle. This also damages the user quite a lot.'], 'types': ['Steel', 'Flying']}\n",
            "{'_id': ObjectId('648e02e76d77242804204b69'), 'pokemon_id': 797, 'abilities': ['Beast Boost'], 'moves': ['Wide Guard is described as The user and its allies are protected from wide-ranging attacks for one turn.', 'Air Slash is described as The user attacks with a blade of air that slices even the sky. This may also make the target flinch.', \"Ingrain is described as The user lays roots that restore its HP on every turn. Because it's rooted, it can't switch out.\", \"Absorb is described as A nutrient-draining attack. The user's HP is restored by half the damage taken by the target.\", 'Harden is described as The user stiffens all the muscles in its body to raise its Defense stat.', 'Tackle is described as A physical attack in which the user charges and slams into the target with its whole body.', \"Smack Down is described as The user throws a stone or similar projectile to attack an opponent. A flying Pokémon will fall to the ground when it's hit.\", \"Mega Drain is described as A nutrient-draining attack. The user's HP is restored by half the damage taken by the target.\", 'Leech Seed is described as A seed is planted on the target. It steals some HP from the target every turn.', \"Metal Sound is described as A horrible sound like scraping metal harshly lowers the target's Sp. Def stat.\", 'Iron Head is described as The user slams the target with its steel-hard head. This may also make the target flinch.', \"Giga Drain is described as A nutrient-draining attack. The user's HP is restored by half the damage taken by the target.\", \"Flash Cannon is described as The user gathers all its light energy and releases it all at once. This may also lower the target's Sp. Def stat.\", 'Autotomize is described as The user sheds part of its body to make itself lighter and sharply raise its Speed stat.', 'Seed Bomb is described as The user slams a barrage of hard-shelled seeds down on the target from above.', 'Skull Bash is described as The user tucks in its head to raise its Defense stat on the first turn, then rams the target on the next turn.', \"Iron Defense is described as The user hardens its body's surface like iron, sharply raising its Defense stat.\", \"Heavy Slam is described as The user slams into the target with its heavy body. The more the user outweighs the target, the greater the move's power.\", 'Double-Edge is described as A reckless, life-risking tackle. This also damages the user quite a lot.'], 'types': ['Steel', 'Flying']}\n",
            "{'_id': ObjectId('648dee2f6d7724280420444b'), 'pokemon_id': 383, 'abilities': ['Drought'], 'moves': [\"Ancient Power is described as The user attacks with a prehistoric power. This may also raise all the user's stats at once.\", \"Mud Shot is described as The user attacks by hurling a blob of mud at the target. This also lowers the target's Speed stat.\", 'Scary Face is described as The user frightens the target with a scary face to harshly lower its Speed stat.', \"Earth Power is described as The user makes the ground under the target erupt with power. This may also lower the target's  Sp. Def stat.\", 'Lava Plume is described as The user torches everything around it in an inferno of scarlet flames. This may also leave those it hits with a burn.', \"Rest is described as The user goes to sleep for two turns. This fully restores the user's HP and heals any status conditions.\", 'Earthquake is described as The user sets off an earthquake that strikes every Pokémon around it.', 'Precipice Blades is described as The user attacks opposing Pokémon by manifesting the power of the land in fearsome blades of stone.', 'Bulk Up is described as The user tenses its muscles to bulk up its body, raising both its Attack and Defense stats.', 'Solar Beam is described as In this two-turn attack, the user gathers light, then blasts a bundled beam on the next turn.', 'Fissure is described as The user opens up a fissure in the ground and drops the target in. The target faints instantly if this attack hits.', 'Fire Blast is described as The target is attacked with an intense blast of all-consuming fire. This may also leave the target with a burn.', \"Hammer Arm is described as The user swings and hits with its strong, heavy fist. It lowers the user's Speed, however.\", \"Eruption is described as The user attacks opposing Pokémon with explosive fury. The lower the user's HP, the lower the move's power.\"], 'types': ['Ground']}\n",
            "{'_id': ObjectId('648e02e76d772428042049ca'), 'pokemon_id': 383, 'abilities': ['Drought'], 'moves': [\"Ancient Power is described as The user attacks with a prehistoric power. This may also raise all the user's stats at once.\", \"Mud Shot is described as The user attacks by hurling a blob of mud at the target. This also lowers the target's Speed stat.\", 'Scary Face is described as The user frightens the target with a scary face to harshly lower its Speed stat.', \"Earth Power is described as The user makes the ground under the target erupt with power. This may also lower the target's  Sp. Def stat.\", 'Lava Plume is described as The user torches everything around it in an inferno of scarlet flames. This may also leave those it hits with a burn.', \"Rest is described as The user goes to sleep for two turns. This fully restores the user's HP and heals any status conditions.\", 'Earthquake is described as The user sets off an earthquake that strikes every Pokémon around it.', 'Precipice Blades is described as The user attacks opposing Pokémon by manifesting the power of the land in fearsome blades of stone.', 'Bulk Up is described as The user tenses its muscles to bulk up its body, raising both its Attack and Defense stats.', 'Solar Beam is described as In this two-turn attack, the user gathers light, then blasts a bundled beam on the next turn.', 'Fissure is described as The user opens up a fissure in the ground and drops the target in. The target faints instantly if this attack hits.', 'Fire Blast is described as The target is attacked with an intense blast of all-consuming fire. This may also leave the target with a burn.', \"Hammer Arm is described as The user swings and hits with its strong, heavy fist. It lowers the user's Speed, however.\", \"Eruption is described as The user attacks opposing Pokémon with explosive fury. The lower the user's HP, the lower the move's power.\"], 'types': ['Ground']}\n",
            "{'_id': ObjectId('648dee2f6d772428042045b9'), 'pokemon_id': 750, 'abilities': ['Own Tempo', 'Stamina', 'Inner Focus'], 'moves': [\"Mud-Slap is described as The user hurls mud in the target's face to inflict damage and lower its accuracy.\", 'Mud Sport is described as The user kicks up mud on the battlefield. This weakens Electric-type moves for five turns.', 'Rototiller is described as Tilling the soil, the user makes it easier for plants to grow. This raises the Attack and Sp. Atk stats of Grass-type Pokémon.', 'Bulldoze is described as The user strikes everything around it by stomping down on the ground. This lowers the Speed stat of those hit.', 'Double Kick is described as The target is quickly kicked twice in succession using both feet.', 'Stomp is described as The target is stomped with a big foot. This may also make the target flinch.', 'Bide is described as The user endures attacks for two turns, then strikes back to cause double the damage taken.', 'High Horsepower is described as The user fiercely attacks the target using its entire body.', \"Iron Defense is described as The user hardens its body's surface like iron, sharply raising its Defense stat.\", \"Heavy Slam is described as The user slams into the target with its heavy body. The more the user outweighs the target, the greater the move's power.\", 'Counter is described as A retaliation move that counters any physical attack, inflicting double the damage taken.', 'Earthquake is described as The user sets off an earthquake that strikes every Pokémon around it.', 'Mega Kick is described as The target is attacked by a kick launched with muscle-packed power.', \"Superpower is described as The user attacks the target with great power. However, this also lowers the user's Attack and Defense stats.\"], 'types': ['Ground']}\n",
            "{'_id': ObjectId('648e02e76d77242804204b39'), 'pokemon_id': 750, 'abilities': ['Own Tempo', 'Stamina', 'Inner Focus'], 'moves': [\"Mud-Slap is described as The user hurls mud in the target's face to inflict damage and lower its accuracy.\", 'Mud Sport is described as The user kicks up mud on the battlefield. This weakens Electric-type moves for five turns.', 'Rototiller is described as Tilling the soil, the user makes it easier for plants to grow. This raises the Attack and Sp. Atk stats of Grass-type Pokémon.', 'Bulldoze is described as The user strikes everything around it by stomping down on the ground. This lowers the Speed stat of those hit.', 'Double Kick is described as The target is quickly kicked twice in succession using both feet.', 'Stomp is described as The target is stomped with a big foot. This may also make the target flinch.', 'Bide is described as The user endures attacks for two turns, then strikes back to cause double the damage taken.', 'High Horsepower is described as The user fiercely attacks the target using its entire body.', \"Iron Defense is described as The user hardens its body's surface like iron, sharply raising its Defense stat.\", \"Heavy Slam is described as The user slams into the target with its heavy body. The more the user outweighs the target, the greater the move's power.\", 'Counter is described as A retaliation move that counters any physical attack, inflicting double the damage taken.', 'Earthquake is described as The user sets off an earthquake that strikes every Pokémon around it.', 'Mega Kick is described as The target is attacked by a kick launched with muscle-packed power.', \"Superpower is described as The user attacks the target with great power. However, this also lowers the user's Attack and Defense stats.\"], 'types': ['Ground']}\n",
            "{'_id': ObjectId('648dee2f6d772428042045ea'), 'pokemon_id': 799, 'abilities': ['Beast Boost'], 'moves': ['Belch is described as The user lets out a damaging belch at the target. The user must eat a held Berry to use this move.', 'Wide Guard is described as The user and its allies are protected from wide-ranging attacks for one turn.', 'Swallow is described as The power stored using the move Stockpile is absorbed by the user to heal its HP. Storing more power heals more HP.', 'Stockpile is described as The user charges up power and raises both its Defense and Sp. Def stats. The move can be used three times.', 'Dragon Rage is described as This attack hits the target with a shock wave of pure rage. This attack always inflicts 40 HP damage.', 'Bite is described as The target is bitten with viciously sharp fangs. This may also make the target flinch.', 'Stomp is described as The target is stomped with a big foot. This may also make the target flinch.', 'Brutal Swing is described as The user swings its body around violently to inflict damage on everything in its vicinity.', 'Steamroller is described as The user crushes its target by rolling over the target with its rolled-up body. This may also make the target flinch.', 'Dragon Tail is described as The target is knocked away, and a different Pokémon is dragged out. In the wild, this ends a battle against a single Pokémon.', \"Iron Tail is described as The target is slammed with a steel-hard tail. This may also lower the target's Defense stat.\", \"Stomping Tantrum is described as Driven by frustration, the user attacks the target. If the user's previous move has failed, the power of this move doubles.\", \"Crunch is described as The user crunches up the target with sharp fangs. This may also lower the target's Defense stat.\", \"Hammer Arm is described as The user swings and hits with its strong, heavy fist. It lowers the user's Speed, however.\", 'Thrash is described as The user rampages and attacks for two to three turns. The user then becomes confused.', \"Gastro Acid is described as The user hurls up its stomach acids on the target. The fluid eliminates the effect of the target's Ability.\", \"Heavy Slam is described as The user slams into the target with its heavy body. The more the user outweighs the target, the greater the move's power.\", \"Wring Out is described as The user powerfully wrings the target. The more HP the target has, the greater the move's power.\", 'Dragon Rush is described as The user tackles the target while exhibiting overwhelming menace. This may also make the target flinch.'], 'types': ['Dark', 'Dragon']}\n",
            "{'_id': ObjectId('648e02e76d77242804204b6b'), 'pokemon_id': 799, 'abilities': ['Beast Boost'], 'moves': ['Belch is described as The user lets out a damaging belch at the target. The user must eat a held Berry to use this move.', 'Wide Guard is described as The user and its allies are protected from wide-ranging attacks for one turn.', 'Swallow is described as The power stored using the move Stockpile is absorbed by the user to heal its HP. Storing more power heals more HP.', 'Stockpile is described as The user charges up power and raises both its Defense and Sp. Def stats. The move can be used three times.', 'Dragon Rage is described as This attack hits the target with a shock wave of pure rage. This attack always inflicts 40 HP damage.', 'Bite is described as The target is bitten with viciously sharp fangs. This may also make the target flinch.', 'Stomp is described as The target is stomped with a big foot. This may also make the target flinch.', 'Brutal Swing is described as The user swings its body around violently to inflict damage on everything in its vicinity.', 'Steamroller is described as The user crushes its target by rolling over the target with its rolled-up body. This may also make the target flinch.', 'Dragon Tail is described as The target is knocked away, and a different Pokémon is dragged out. In the wild, this ends a battle against a single Pokémon.', \"Iron Tail is described as The target is slammed with a steel-hard tail. This may also lower the target's Defense stat.\", \"Stomping Tantrum is described as Driven by frustration, the user attacks the target. If the user's previous move has failed, the power of this move doubles.\", \"Crunch is described as The user crunches up the target with sharp fangs. This may also lower the target's Defense stat.\", \"Hammer Arm is described as The user swings and hits with its strong, heavy fist. It lowers the user's Speed, however.\", 'Thrash is described as The user rampages and attacks for two to three turns. The user then becomes confused.', \"Gastro Acid is described as The user hurls up its stomach acids on the target. The fluid eliminates the effect of the target's Ability.\", \"Heavy Slam is described as The user slams into the target with its heavy body. The more the user outweighs the target, the greater the move's power.\", \"Wring Out is described as The user powerfully wrings the target. The more HP the target has, the greater the move's power.\", 'Dragon Rush is described as The user tackles the target while exhibiting overwhelming menace. This may also make the target flinch.'], 'types': ['Dark', 'Dragon']}\n",
            "{'_id': ObjectId('648dee2f6d772428042045f1'), 'pokemon_id': 805, 'abilities': ['Beast Boost'], 'moves': ['Protect is described as Enables the user to evade all attacks. Its chance of failing rises if it is used in succession.', 'Tackle is described as A physical attack in which the user charges and slams into the target with its whole body.', 'Rock Slide is described as Large boulders are hurled at the opposing Pokémon to inflict damage. This may also make the opposing Pokémon flinch.', 'Stealth Rock is described as The user lays a trap of levitating stones around the opposing team. The trap hurts opposing Pokémon that switch into battle.', 'Bide is described as The user endures attacks for two turns, then strikes back to cause double the damage taken.', 'Take Down is described as A reckless, full-body charge attack for slamming into the target. This also damages the user a little.', 'Rock Throw is described as The user picks up and throws a small rock at the target to attack.', 'Autotomize is described as The user sheds part of its body to make itself lighter and sharply raise its Speed stat.', \"Iron Defense is described as The user hardens its body's surface like iron, sharply raising its Defense stat.\", 'Iron Head is described as The user slams the target with its steel-hard head. This may also make the target flinch.', 'Rock Blast is described as The user hurls hard rocks at the target. Two to five rocks are launched in a row.', 'Wide Guard is described as The user and its allies are protected from wide-ranging attacks for one turn.', 'Double-Edge is described as A reckless, life-risking tackle. This also damages the user quite a lot.'], 'types': ['Rock', 'Steel']}\n",
            "{'_id': ObjectId('648e02e76d77242804204b71'), 'pokemon_id': 805, 'abilities': ['Beast Boost'], 'moves': ['Protect is described as Enables the user to evade all attacks. Its chance of failing rises if it is used in succession.', 'Tackle is described as A physical attack in which the user charges and slams into the target with its whole body.', 'Rock Slide is described as Large boulders are hurled at the opposing Pokémon to inflict damage. This may also make the opposing Pokémon flinch.', 'Stealth Rock is described as The user lays a trap of levitating stones around the opposing team. The trap hurts opposing Pokémon that switch into battle.', 'Bide is described as The user endures attacks for two turns, then strikes back to cause double the damage taken.', 'Take Down is described as A reckless, full-body charge attack for slamming into the target. This also damages the user a little.', 'Rock Throw is described as The user picks up and throws a small rock at the target to attack.', 'Autotomize is described as The user sheds part of its body to make itself lighter and sharply raise its Speed stat.', \"Iron Defense is described as The user hardens its body's surface like iron, sharply raising its Defense stat.\", 'Iron Head is described as The user slams the target with its steel-hard head. This may also make the target flinch.', 'Rock Blast is described as The user hurls hard rocks at the target. Two to five rocks are launched in a row.', 'Wide Guard is described as The user and its allies are protected from wide-ranging attacks for one turn.', 'Double-Edge is described as A reckless, life-risking tackle. This also damages the user quite a lot.'], 'types': ['Rock', 'Steel']}\n",
            "{'_id': ObjectId('648dee2f6d772428042045f4'), 'pokemon_id': 809, 'abilities': ['Iron Fist'], 'moves': ['Thunder Punch is described as The target is punched with an electrified fist. This may also leave the target with paralysis.', 'Headbutt is described as The user sticks out its head and attacks by charging straight into the target. This may also make the target flinch.', 'Harden is described as The user stiffens all the muscles in its body to raise its Defense stat.', 'Tail Whip is described as The user wags its tail cutely, making opposing Pokémon less wary and lowering their Defense stat.', 'Thunder Wave is described as The user launches a weak jolt of electricity that paralyzes the target.', 'Thunder Shock is described as A jolt of electricity crashes down on the target to inflict damage. This may also leave the target with paralysis.', 'Acid Armor is described as The user alters its cellular structure to liquefy itself, sharply raising its Defense stat.', \"Flash Cannon is described as The user gathers all its light energy and releases it all at once. This may also lower the target's Sp. Def stat.\", 'Mega Punch is described as The target is slugged by a punch thrown with muscle-packed power.', 'Protect is described as Enables the user to evade all attacks. Its chance of failing rises if it is used in succession.', 'Double Iron Bash is described as The user rotates, centering the hex nut in its chest, and then strikes with its arms twice in a row. This may also make the target flinch.', \"Superpower is described as The user attacks the target with great power. However, this also lowers the user's Attack and Defense stats.\", \"Hyper Beam is described as The target is attacked with a powerful beam. The user can't move on the next turn.\"], 'types': ['Steel']}\n",
            "{'_id': ObjectId('648e02e76d77242804204b75'), 'pokemon_id': 809, 'abilities': ['Iron Fist'], 'moves': ['Thunder Punch is described as The target is punched with an electrified fist. This may also leave the target with paralysis.', 'Headbutt is described as The user sticks out its head and attacks by charging straight into the target. This may also make the target flinch.', 'Harden is described as The user stiffens all the muscles in its body to raise its Defense stat.', 'Tail Whip is described as The user wags its tail cutely, making opposing Pokémon less wary and lowering their Defense stat.', 'Thunder Wave is described as The user launches a weak jolt of electricity that paralyzes the target.', 'Thunder Shock is described as A jolt of electricity crashes down on the target to inflict damage. This may also leave the target with paralysis.', 'Acid Armor is described as The user alters its cellular structure to liquefy itself, sharply raising its Defense stat.', \"Flash Cannon is described as The user gathers all its light energy and releases it all at once. This may also lower the target's Sp. Def stat.\", 'Mega Punch is described as The target is slugged by a punch thrown with muscle-packed power.', 'Protect is described as Enables the user to evade all attacks. Its chance of failing rises if it is used in succession.', 'Double Iron Bash is described as The user rotates, centering the hex nut in its chest, and then strikes with its arms twice in a row. This may also make the target flinch.', \"Superpower is described as The user attacks the target with great power. However, this also lowers the user's Attack and Defense stats.\", \"Hyper Beam is described as The target is attacked with a powerful beam. The user can't move on the next turn.\"], 'types': ['Steel']}\n",
            "{'_id': ObjectId('648dee2f6d772428042044b3'), 'pokemon_id': 487, 'abilities': ['Pressure', 'Telepathy', 'Levitate'], 'moves': ['Dragon Breath is described as The user exhales a mighty gust that inflicts damage. This may also leave the target with paralysis.', 'Scary Face is described as The user frightens the target with a scary face to harshly lower its Speed stat.', \"Ominous Wind is described as The user blasts the target with a gust of repulsive wind. This may also raise all the user's stats at once.\", \"Ancient Power is described as The user attacks with a prehistoric power. This may also raise all the user's stats at once.\", 'Slash is described as The target is attacked with a slash of claws or blades. Critical hits land more easily.', 'Shadow Sneak is described as The user extends its shadow and attacks the target from behind. This move always goes first.', 'Destiny Bond is described as After using this move, if the user faints, the Pokémon that landed the knockout hit also faints. Its chance of failing rises if it is used in succession.', 'Dragon Claw is described as The user slashes the target with huge sharp claws.', \"Earth Power is described as The user makes the ground under the target erupt with power. This may also lower the target's  Sp. Def stat.\", 'Aura Sphere is described as The user lets loose a blast of aura power from deep within its body at the target. This attack never misses.', 'Shadow Claw is described as The user slashes with a sharp claw made from shadows. Critical hits land more easily.', 'Shadow Force is described as The user disappears, then strikes the target on the next turn. This move hits even if the target protects itself.', 'Hex is described as This relentless attack does massive damage to a target affected by status conditions.'], 'types': ['Ghost', 'Dragon']}\n",
            "{'_id': ObjectId('648e02e76d77242804204a33'), 'pokemon_id': 487, 'abilities': ['Pressure', 'Telepathy', 'Levitate'], 'moves': ['Dragon Breath is described as The user exhales a mighty gust that inflicts damage. This may also leave the target with paralysis.', 'Scary Face is described as The user frightens the target with a scary face to harshly lower its Speed stat.', \"Ominous Wind is described as The user blasts the target with a gust of repulsive wind. This may also raise all the user's stats at once.\", \"Ancient Power is described as The user attacks with a prehistoric power. This may also raise all the user's stats at once.\", 'Slash is described as The target is attacked with a slash of claws or blades. Critical hits land more easily.', 'Shadow Sneak is described as The user extends its shadow and attacks the target from behind. This move always goes first.', 'Destiny Bond is described as After using this move, if the user faints, the Pokémon that landed the knockout hit also faints. Its chance of failing rises if it is used in succession.', 'Dragon Claw is described as The user slashes the target with huge sharp claws.', \"Earth Power is described as The user makes the ground under the target erupt with power. This may also lower the target's  Sp. Def stat.\", 'Aura Sphere is described as The user lets loose a blast of aura power from deep within its body at the target. This attack never misses.', 'Shadow Claw is described as The user slashes with a sharp claw made from shadows. Critical hits land more easily.', 'Shadow Force is described as The user disappears, then strikes the target on the next turn. This move hits even if the target protects itself.', 'Hex is described as This relentless attack does massive damage to a target affected by status conditions.'], 'types': ['Ghost', 'Dragon']}\n",
            "{'_id': ObjectId('648dee2f6d772428042044b2'), 'pokemon_id': 483, 'abilities': ['Pressure', 'Telepathy'], 'moves': ['Dragon Breath is described as The user exhales a mighty gust that inflicts damage. This may also leave the target with paralysis.', 'Scary Face is described as The user frightens the target with a scary face to harshly lower its Speed stat.', \"Metal Claw is described as The target is raked with steel claws. This may also raise the user's Attack stat.\", \"Ancient Power is described as The user attacks with a prehistoric power. This may also raise all the user's stats at once.\", 'Slash is described as The target is attacked with a slash of claws or blades. Critical hits land more easily.', 'Power Gem is described as The user attacks with a ray of light that sparkles as if it were made of gemstones.', 'Metal Burst is described as The user retaliates with much greater force against the opponent that last inflicted damage on it.', 'Dragon Claw is described as The user slashes the target with huge sharp claws.', \"Earth Power is described as The user makes the ground under the target erupt with power. This may also lower the target's  Sp. Def stat.\", 'Aura Sphere is described as The user lets loose a blast of aura power from deep within its body at the target. This attack never misses.', \"Iron Tail is described as The target is slammed with a steel-hard tail. This may also lower the target's Defense stat.\", \"Roar of Time is described as The user blasts the target with power that distorts even time. The user can't move on the next turn.\", \"Flash Cannon is described as The user gathers all its light energy and releases it all at once. This may also lower the target's Sp. Def stat.\"], 'types': ['Steel', 'Dragon']}\n",
            "{'_id': ObjectId('648e02e76d77242804204a2f'), 'pokemon_id': 483, 'abilities': ['Pressure', 'Telepathy'], 'moves': ['Dragon Breath is described as The user exhales a mighty gust that inflicts damage. This may also leave the target with paralysis.', 'Scary Face is described as The user frightens the target with a scary face to harshly lower its Speed stat.', \"Metal Claw is described as The target is raked with steel claws. This may also raise the user's Attack stat.\", \"Ancient Power is described as The user attacks with a prehistoric power. This may also raise all the user's stats at once.\", 'Slash is described as The target is attacked with a slash of claws or blades. Critical hits land more easily.', 'Power Gem is described as The user attacks with a ray of light that sparkles as if it were made of gemstones.', 'Metal Burst is described as The user retaliates with much greater force against the opponent that last inflicted damage on it.', 'Dragon Claw is described as The user slashes the target with huge sharp claws.', \"Earth Power is described as The user makes the ground under the target erupt with power. This may also lower the target's  Sp. Def stat.\", 'Aura Sphere is described as The user lets loose a blast of aura power from deep within its body at the target. This attack never misses.', \"Iron Tail is described as The target is slammed with a steel-hard tail. This may also lower the target's Defense stat.\", \"Roar of Time is described as The user blasts the target with power that distorts even time. The user can't move on the next turn.\", \"Flash Cannon is described as The user gathers all its light energy and releases it all at once. This may also lower the target's Sp. Def stat.\"], 'types': ['Steel', 'Dragon']}\n",
            "{'_id': ObjectId('648dee2f6d77242804204444'), 'pokemon_id': 376, 'abilities': ['Clear Body', 'Light Metal'], 'moves': [\"Hammer Arm is described as The user swings and hits with its strong, heavy fist. It lowers the user's Speed, however.\", 'Confusion is described as The target is hit by a weak telekinetic force. This may also confuse the target.', \"Metal Claw is described as The target is raked with steel claws. This may also raise the user's Attack stat.\", 'Magnet Rise is described as The user levitates using electrically generated magnetism for five turns.', 'Take Down is described as A reckless, full-body charge attack for slamming into the target. This also damages the user a little.', \"Pursuit is described as The power of this attack move is doubled if it's used on a target that's switching out of battle.\", 'Bullet Punch is described as The user strikes the target with tough punches as fast as bullets. This move always goes first.', 'Miracle Eye is described as Enables a Dark-type target to be hit by Psychic-type attacks. This also enables an evasive target to be hit.', 'Zen Headbutt is described as The user focuses its willpower to its head and attacks the target. This may also make the target flinch.', 'Scary Face is described as The user frightens the target with a scary face to harshly lower its Speed stat.', \"Psychic is described as The target is hit by a strong telekinetic force. This may also lower the target's Sp. Def stat.\", 'Agility is described as The user relaxes and lightens its body to move faster. This sharply raises the Speed stat.', \"Meteor Mash is described as The target is hit with a hard punch fired like a meteor. This may also raise the user's Attack stat.\", \"Iron Defense is described as The user hardens its body's surface like iron, sharply raising its Defense stat.\", \"Hyper Beam is described as The target is attacked with a powerful beam. The user can't move on the next turn.\"], 'types': ['Steel', 'Psychic']}\n",
            "{'_id': ObjectId('648e02e76d772428042049c3'), 'pokemon_id': 376, 'abilities': ['Clear Body', 'Light Metal'], 'moves': [\"Hammer Arm is described as The user swings and hits with its strong, heavy fist. It lowers the user's Speed, however.\", 'Confusion is described as The target is hit by a weak telekinetic force. This may also confuse the target.', \"Metal Claw is described as The target is raked with steel claws. This may also raise the user's Attack stat.\", 'Magnet Rise is described as The user levitates using electrically generated magnetism for five turns.', 'Take Down is described as A reckless, full-body charge attack for slamming into the target. This also damages the user a little.', \"Pursuit is described as The power of this attack move is doubled if it's used on a target that's switching out of battle.\", 'Bullet Punch is described as The user strikes the target with tough punches as fast as bullets. This move always goes first.', 'Miracle Eye is described as Enables a Dark-type target to be hit by Psychic-type attacks. This also enables an evasive target to be hit.', 'Zen Headbutt is described as The user focuses its willpower to its head and attacks the target. This may also make the target flinch.', 'Scary Face is described as The user frightens the target with a scary face to harshly lower its Speed stat.', \"Psychic is described as The target is hit by a strong telekinetic force. This may also lower the target's Sp. Def stat.\", 'Agility is described as The user relaxes and lightens its body to move faster. This sharply raises the Speed stat.', \"Meteor Mash is described as The target is hit with a hard punch fired like a meteor. This may also raise the user's Attack stat.\", \"Iron Defense is described as The user hardens its body's surface like iron, sharply raising its Defense stat.\", \"Hyper Beam is described as The target is attacked with a powerful beam. The user can't move on the next turn.\"], 'types': ['Steel', 'Psychic']}\n"
          ]
        }
      ]
    },
    {
      "cell_type": "markdown",
      "source": [
        "## Pregunta 2\n",
        "\n",
        "Nombre los 3 pokemones con más movimientos. Se recomienda revisar la documentación de MongoDB, particularmente de [`$sort`](https://www.mongodb.com/docs/manual/reference/operator/aggregation/sort/) y [`$limit`](https://www.mongodb.com/docs/manual/reference/operator/aggregation/limit/)."
      ],
      "metadata": {
        "id": "kkCvJbF7quNQ"
      }
    },
    {
      "cell_type": "markdown",
      "source": [
        "## Pregunta 3\n",
        "\n",
        "Cuál es el elemento de los pokemones más densos? Indique los 5 elementos de pokemones más densos. Asuma que la densidad es el peso dividido en la altura, y que los pokemones tienen un solo tipo (ignore todos los elementos de cada pokemon excepto uno)."
      ],
      "metadata": {
        "id": "byZJFhmOyUDf"
      }
    },
    {
      "cell_type": "code",
      "source": [
        "result = collection.aggregate([{'$match': { \"pokemon_id\": 1 }},{'$project': {'pokemon_id': 1,\"abilities_count\": { '$size': \"$abilities\" }}}])\n",
        "for d in result:\n",
        "  print(d['abilities_count'])\n"
      ],
      "metadata": {
        "id": "OM8TSVJeyVQE",
        "colab": {
          "base_uri": "https://localhost:8080/"
        },
        "outputId": "857e2292-1f82-45d2-bfd5-d8d35b6106bc"
      },
      "execution_count": 162,
      "outputs": [
        {
          "output_type": "stream",
          "name": "stdout",
          "text": [
            "2\n",
            "2\n"
          ]
        }
      ]
    },
    {
      "cell_type": "markdown",
      "source": [
        "## Pregunta 4\n",
        "\n",
        "Vea si existe alguna correlación entre algún atributo (ataque, defensa, ataque especial, defensa especial, velocidad y HP) y la cantidad de movimientos que tienen los pokemones.\n",
        "\n",
        "Hay algun otro par de variables (de las mencionadas anteriormente) que tengan mayor correlación entre sí? Indique el par de atributos que tengan la mayor correlación entre sí y haga un gráfico de dispersión para visualizar la correlación."
      ],
      "metadata": {
        "id": "2SrvuCWlyYwG"
      }
    },
    {
      "cell_type": "code",
      "source": [
        "result = collection.aggregate([{\"$match\": { \"pokemon_id\": 1 }},{\"$group\": {\"_id\": \"$pokemon_id\",\"abilities_count\": { \"$sum\": { \"$size\": \"$abilities\" } }}}])\n",
        "for d in result:\n",
        "  print(d)"
      ],
      "metadata": {
        "id": "kBimnR_hE1xy",
        "colab": {
          "base_uri": "https://localhost:8080/"
        },
        "outputId": "ec8bd837-6fb1-4390-ffe0-a50952de8d6d"
      },
      "execution_count": 163,
      "outputs": [
        {
          "output_type": "stream",
          "name": "stdout",
          "text": [
            "{'_id': 1, 'abilities_count': 4}\n"
          ]
        }
      ]
    },
    {
      "cell_type": "markdown",
      "source": [
        "Los atributos con mayor correlación son YY y ZZ."
      ],
      "metadata": {
        "id": "OOKCMGPGI0gV"
      }
    },
    {
      "cell_type": "code",
      "source": [],
      "metadata": {
        "id": "FZmGvze__Ytj"
      },
      "execution_count": null,
      "outputs": []
    },
    {
      "cell_type": "markdown",
      "source": [
        "## Importante:\n",
        "Para las últimas preguntas será necesario que crees y consultes un índice de texto para el arreglo de strings `moves`."
      ],
      "metadata": {
        "id": "iX3rGsPhx0L9"
      }
    },
    {
      "cell_type": "code",
      "source": [
        "# Aquí escribe el código para crear el índice de texto\n"
      ],
      "metadata": {
        "id": "sGsiV5cux195"
      },
      "execution_count": null,
      "outputs": []
    },
    {
      "cell_type": "markdown",
      "source": [
        "## Pregunta 5\n",
        "Entregue el nombre de todos los pokemones los cuales en sus movimientos contengan las palabras `fire` y `thunder` y tengan un Ataque Especial (Sp. Attack) entre `110` y `130` (ambos valores incluidos)"
      ],
      "metadata": {
        "id": "RuQdiWyNyarx"
      }
    },
    {
      "cell_type": "code",
      "source": [],
      "metadata": {
        "id": "CiYsZtaiybPR"
      },
      "execution_count": null,
      "outputs": []
    },
    {
      "cell_type": "markdown",
      "source": [
        "## Pregunta 6\n",
        "Entregue el nombre junto con la suma de las estadísticas de combate (HP, Attack, Defense, Sp. Attack, Sp. Defense y Speed) de los pokemones que en sus movimientos contengan las palabras `ice`, `freeze`, `snow` o `cold`, **pero no** las palabras `water` y `wind`. Deben estar ordenado alfabéticamente por su nombre."
      ],
      "metadata": {
        "id": "Xh15tdKwyby1"
      }
    },
    {
      "cell_type": "code",
      "source": [],
      "metadata": {
        "id": "Uwssos-aycNj"
      },
      "execution_count": null,
      "outputs": []
    }
  ]
}