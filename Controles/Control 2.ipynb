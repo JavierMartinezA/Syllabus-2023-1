{
  "cells": [
    {
      "cell_type": "markdown",
      "source": [
        "# Instalación y datos"
      ],
      "metadata": {
        "id": "qggw3E9rygd2"
      }
    },
    {
      "cell_type": "markdown",
      "source": [
        "## Instalación de postgres y carga de datos"
      ],
      "metadata": {
        "id": "Muxt3i7yyjnn"
      }
    },
    {
      "cell_type": "code",
      "execution_count": 35,
      "metadata": {
        "id": "xN9MrCqDyMym"
      },
      "outputs": [],
      "source": [
        "# install\n",
        "!apt update\n",
        "!apt install postgresql postgresql-contrib &>log\n",
        "!service postgresql start\n",
        "!sudo -u postgres psql -c \"CREATE USER root WITH SUPERUSER\"\n",
        "# pin package versions for google colab compatibility\n",
        "!pip install SQLAlchemy==1.4.46\n",
        "!pip install ipython-sql==0.4.1\n",
        "# set connection\n",
        "%load_ext sql\n",
        "%config SqlMagic.feedback=False \n",
        "%config SqlMagic.autopandas=True\n",
        "%sql postgresql+psycopg2://@/postgres\n",
        "%sql create schema control2;\n",
        "%sql set search_path to control2;\n",
        "\n",
        "from google.colab import output\n",
        "output.clear()"
      ]
    },
    {
      "cell_type": "markdown",
      "source": [
        "### Airports"
      ],
      "metadata": {
        "id": "TVrwXHErPm5D"
      }
    },
    {
      "cell_type": "code",
      "source": [
        "%%sql\n",
        "\n",
        "CREATE TABLE airports(\n",
        "    id bigint,\n",
        "    name varchar(128),\n",
        "    city varchar(128),\n",
        "    country varchar(64),\n",
        "    iata_code varchar(3),\n",
        "    icao_code varchar(4),\n",
        "    latitude decimal(9, 6),\n",
        "    longitude decimal(9, 6),\n",
        "    altitude float,\n",
        "    timezone decimal(4, 1),\n",
        "    dst varchar(1),\n",
        "    tz varchar(64),\n",
        "    airport_type varchar(8),\n",
        "    source varchar(16)\n",
        ");"
      ],
      "metadata": {
        "id": "wr6vVQavPo0L",
        "colab": {
          "base_uri": "https://localhost:8080/"
        },
        "outputId": "3baba8d3-6437-40fb-8da5-3296f2f6b1ea"
      },
      "execution_count": 36,
      "outputs": [
        {
          "output_type": "stream",
          "name": "stdout",
          "text": [
            " * postgresql+psycopg2://@/postgres\n",
            "(psycopg2.errors.DuplicateTable) relation \"airports\" already exists\n",
            "\n",
            "[SQL: CREATE TABLE airports(\n",
            "    id bigint,\n",
            "    name varchar(128),\n",
            "    city varchar(128),\n",
            "    country varchar(64),\n",
            "    iata_code varchar(3),\n",
            "    icao_code varchar(4),\n",
            "    latitude decimal(9, 6),\n",
            "    longitude decimal(9, 6),\n",
            "    altitude float,\n",
            "    timezone decimal(4, 1),\n",
            "    dst varchar(1),\n",
            "    tz varchar(64),\n",
            "    airport_type varchar(8),\n",
            "    source varchar(16)\n",
            ");]\n",
            "(Background on this error at: https://sqlalche.me/e/14/f405)\n"
          ]
        }
      ]
    },
    {
      "cell_type": "code",
      "source": [
        "!wget https://raw.githubusercontent.com/jpatokal/openflights/master/data/airports.dat"
      ],
      "metadata": {
        "id": "ejFG-2g1RHQh",
        "colab": {
          "base_uri": "https://localhost:8080/"
        },
        "outputId": "21940016-de04-43af-c312-1a3fe336e1d7"
      },
      "execution_count": 37,
      "outputs": [
        {
          "output_type": "stream",
          "name": "stdout",
          "text": [
            "--2023-04-29 03:29:11--  https://raw.githubusercontent.com/jpatokal/openflights/master/data/airports.dat\n",
            "Resolving raw.githubusercontent.com (raw.githubusercontent.com)... 185.199.109.133, 185.199.111.133, 185.199.110.133, ...\n",
            "Connecting to raw.githubusercontent.com (raw.githubusercontent.com)|185.199.109.133|:443... connected.\n",
            "HTTP request sent, awaiting response... 200 OK\n",
            "Length: 1127225 (1.1M) [text/plain]\n",
            "Saving to: ‘airports.dat.8’\n",
            "\n",
            "airports.dat.8      100%[===================>]   1.07M  --.-KB/s    in 0.05s   \n",
            "\n",
            "2023-04-29 03:29:11 (22.1 MB/s) - ‘airports.dat.8’ saved [1127225/1127225]\n",
            "\n"
          ]
        }
      ]
    },
    {
      "cell_type": "code",
      "source": [
        "%%sql\n",
        "\n",
        "COPY airports FROM '/content/airports.dat' WITH (FORMAT CSV, DELIMITER(','), NULL '\\N' )"
      ],
      "metadata": {
        "id": "Is_cbXSSXQU7",
        "colab": {
          "base_uri": "https://localhost:8080/",
          "height": 0
        },
        "outputId": "524705dd-e9dd-4c11-c98d-971131fc3a5d"
      },
      "execution_count": 38,
      "outputs": [
        {
          "output_type": "stream",
          "name": "stdout",
          "text": [
            " * postgresql+psycopg2://@/postgres\n"
          ]
        },
        {
          "output_type": "execute_result",
          "data": {
            "text/plain": [
              "Empty DataFrame\n",
              "Columns: []\n",
              "Index: []"
            ],
            "text/html": [
              "\n",
              "  <div id=\"df-17c578e3-632d-4a23-9ad4-bb0c8195787d\">\n",
              "    <div class=\"colab-df-container\">\n",
              "      <div>\n",
              "<style scoped>\n",
              "    .dataframe tbody tr th:only-of-type {\n",
              "        vertical-align: middle;\n",
              "    }\n",
              "\n",
              "    .dataframe tbody tr th {\n",
              "        vertical-align: top;\n",
              "    }\n",
              "\n",
              "    .dataframe thead th {\n",
              "        text-align: right;\n",
              "    }\n",
              "</style>\n",
              "<table border=\"1\" class=\"dataframe\">\n",
              "  <thead>\n",
              "    <tr style=\"text-align: right;\">\n",
              "      <th></th>\n",
              "    </tr>\n",
              "  </thead>\n",
              "  <tbody>\n",
              "  </tbody>\n",
              "</table>\n",
              "</div>\n",
              "      <button class=\"colab-df-convert\" onclick=\"convertToInteractive('df-17c578e3-632d-4a23-9ad4-bb0c8195787d')\"\n",
              "              title=\"Convert this dataframe to an interactive table.\"\n",
              "              style=\"display:none;\">\n",
              "        \n",
              "  <svg xmlns=\"http://www.w3.org/2000/svg\" height=\"24px\"viewBox=\"0 0 24 24\"\n",
              "       width=\"24px\">\n",
              "    <path d=\"M0 0h24v24H0V0z\" fill=\"none\"/>\n",
              "    <path d=\"M18.56 5.44l.94 2.06.94-2.06 2.06-.94-2.06-.94-.94-2.06-.94 2.06-2.06.94zm-11 1L8.5 8.5l.94-2.06 2.06-.94-2.06-.94L8.5 2.5l-.94 2.06-2.06.94zm10 10l.94 2.06.94-2.06 2.06-.94-2.06-.94-.94-2.06-.94 2.06-2.06.94z\"/><path d=\"M17.41 7.96l-1.37-1.37c-.4-.4-.92-.59-1.43-.59-.52 0-1.04.2-1.43.59L10.3 9.45l-7.72 7.72c-.78.78-.78 2.05 0 2.83L4 21.41c.39.39.9.59 1.41.59.51 0 1.02-.2 1.41-.59l7.78-7.78 2.81-2.81c.8-.78.8-2.07 0-2.86zM5.41 20L4 18.59l7.72-7.72 1.47 1.35L5.41 20z\"/>\n",
              "  </svg>\n",
              "      </button>\n",
              "      \n",
              "  <style>\n",
              "    .colab-df-container {\n",
              "      display:flex;\n",
              "      flex-wrap:wrap;\n",
              "      gap: 12px;\n",
              "    }\n",
              "\n",
              "    .colab-df-convert {\n",
              "      background-color: #E8F0FE;\n",
              "      border: none;\n",
              "      border-radius: 50%;\n",
              "      cursor: pointer;\n",
              "      display: none;\n",
              "      fill: #1967D2;\n",
              "      height: 32px;\n",
              "      padding: 0 0 0 0;\n",
              "      width: 32px;\n",
              "    }\n",
              "\n",
              "    .colab-df-convert:hover {\n",
              "      background-color: #E2EBFA;\n",
              "      box-shadow: 0px 1px 2px rgba(60, 64, 67, 0.3), 0px 1px 3px 1px rgba(60, 64, 67, 0.15);\n",
              "      fill: #174EA6;\n",
              "    }\n",
              "\n",
              "    [theme=dark] .colab-df-convert {\n",
              "      background-color: #3B4455;\n",
              "      fill: #D2E3FC;\n",
              "    }\n",
              "\n",
              "    [theme=dark] .colab-df-convert:hover {\n",
              "      background-color: #434B5C;\n",
              "      box-shadow: 0px 1px 3px 1px rgba(0, 0, 0, 0.15);\n",
              "      filter: drop-shadow(0px 1px 2px rgba(0, 0, 0, 0.3));\n",
              "      fill: #FFFFFF;\n",
              "    }\n",
              "  </style>\n",
              "\n",
              "      <script>\n",
              "        const buttonEl =\n",
              "          document.querySelector('#df-17c578e3-632d-4a23-9ad4-bb0c8195787d button.colab-df-convert');\n",
              "        buttonEl.style.display =\n",
              "          google.colab.kernel.accessAllowed ? 'block' : 'none';\n",
              "\n",
              "        async function convertToInteractive(key) {\n",
              "          const element = document.querySelector('#df-17c578e3-632d-4a23-9ad4-bb0c8195787d');\n",
              "          const dataTable =\n",
              "            await google.colab.kernel.invokeFunction('convertToInteractive',\n",
              "                                                     [key], {});\n",
              "          if (!dataTable) return;\n",
              "\n",
              "          const docLinkHtml = 'Like what you see? Visit the ' +\n",
              "            '<a target=\"_blank\" href=https://colab.research.google.com/notebooks/data_table.ipynb>data table notebook</a>'\n",
              "            + ' to learn more about interactive tables.';\n",
              "          element.innerHTML = '';\n",
              "          dataTable['output_type'] = 'display_data';\n",
              "          await google.colab.output.renderOutput(dataTable, element);\n",
              "          const docLink = document.createElement('div');\n",
              "          docLink.innerHTML = docLinkHtml;\n",
              "          element.appendChild(docLink);\n",
              "        }\n",
              "      </script>\n",
              "    </div>\n",
              "  </div>\n",
              "  "
            ]
          },
          "metadata": {},
          "execution_count": 38
        }
      ]
    },
    {
      "cell_type": "markdown",
      "source": [
        "### Airlines"
      ],
      "metadata": {
        "id": "38Gxmwh6YXvG"
      }
    },
    {
      "cell_type": "code",
      "source": [
        "%%sql\n",
        "\n",
        "CREATE TABLE airlines(\n",
        "    id bigint,\n",
        "    name varchar(128),\n",
        "    alias varchar(64),\n",
        "    iata_code varchar(4),\n",
        "    icao_code varchar(8),\n",
        "    callsign varchar(128),\n",
        "    country varchar(64),\n",
        "    active varchar(1)\n",
        ");"
      ],
      "metadata": {
        "id": "6aU38EA7YZ9u",
        "colab": {
          "base_uri": "https://localhost:8080/"
        },
        "outputId": "392019fd-3849-43f5-953a-88ddadb225ed"
      },
      "execution_count": 39,
      "outputs": [
        {
          "output_type": "stream",
          "name": "stdout",
          "text": [
            " * postgresql+psycopg2://@/postgres\n",
            "(psycopg2.errors.DuplicateTable) relation \"airlines\" already exists\n",
            "\n",
            "[SQL: CREATE TABLE airlines(\n",
            "    id bigint,\n",
            "    name varchar(128),\n",
            "    alias varchar(64),\n",
            "    iata_code varchar(4),\n",
            "    icao_code varchar(8),\n",
            "    callsign varchar(128),\n",
            "    country varchar(64),\n",
            "    active varchar(1)\n",
            ");]\n",
            "(Background on this error at: https://sqlalche.me/e/14/f405)\n"
          ]
        }
      ]
    },
    {
      "cell_type": "code",
      "source": [
        "!wget https://raw.githubusercontent.com/jpatokal/openflights/master/data/airlines.dat"
      ],
      "metadata": {
        "id": "kGQYa15CaRV1",
        "colab": {
          "base_uri": "https://localhost:8080/"
        },
        "outputId": "92a4dc41-e9d0-49fb-f760-e51316fa9bcd"
      },
      "execution_count": 40,
      "outputs": [
        {
          "output_type": "stream",
          "name": "stdout",
          "text": [
            "--2023-04-29 03:29:11--  https://raw.githubusercontent.com/jpatokal/openflights/master/data/airlines.dat\n",
            "Resolving raw.githubusercontent.com (raw.githubusercontent.com)... 185.199.108.133, 185.199.109.133, 185.199.110.133, ...\n",
            "Connecting to raw.githubusercontent.com (raw.githubusercontent.com)|185.199.108.133|:443... connected.\n",
            "HTTP request sent, awaiting response... 200 OK\n",
            "Length: 396896 (388K) [text/plain]\n",
            "Saving to: ‘airlines.dat.8’\n",
            "\n",
            "airlines.dat.8      100%[===================>] 387.59K  --.-KB/s    in 0.04s   \n",
            "\n",
            "2023-04-29 03:29:11 (10.7 MB/s) - ‘airlines.dat.8’ saved [396896/396896]\n",
            "\n"
          ]
        }
      ]
    },
    {
      "cell_type": "code",
      "source": [
        "%%sql\n",
        "\n",
        "COPY airlines FROM '/content/airlines.dat' WITH (FORMAT CSV, DELIMITER(','), NULL '\\N' )"
      ],
      "metadata": {
        "id": "xyQKSWiBaXwv",
        "colab": {
          "base_uri": "https://localhost:8080/",
          "height": 0
        },
        "outputId": "6dd18ba1-59b8-496c-9e97-ba82eb0d9d41"
      },
      "execution_count": 41,
      "outputs": [
        {
          "output_type": "stream",
          "name": "stdout",
          "text": [
            " * postgresql+psycopg2://@/postgres\n"
          ]
        },
        {
          "output_type": "execute_result",
          "data": {
            "text/plain": [
              "Empty DataFrame\n",
              "Columns: []\n",
              "Index: []"
            ],
            "text/html": [
              "\n",
              "  <div id=\"df-35246cdc-7d57-4e25-8480-3298a7a16007\">\n",
              "    <div class=\"colab-df-container\">\n",
              "      <div>\n",
              "<style scoped>\n",
              "    .dataframe tbody tr th:only-of-type {\n",
              "        vertical-align: middle;\n",
              "    }\n",
              "\n",
              "    .dataframe tbody tr th {\n",
              "        vertical-align: top;\n",
              "    }\n",
              "\n",
              "    .dataframe thead th {\n",
              "        text-align: right;\n",
              "    }\n",
              "</style>\n",
              "<table border=\"1\" class=\"dataframe\">\n",
              "  <thead>\n",
              "    <tr style=\"text-align: right;\">\n",
              "      <th></th>\n",
              "    </tr>\n",
              "  </thead>\n",
              "  <tbody>\n",
              "  </tbody>\n",
              "</table>\n",
              "</div>\n",
              "      <button class=\"colab-df-convert\" onclick=\"convertToInteractive('df-35246cdc-7d57-4e25-8480-3298a7a16007')\"\n",
              "              title=\"Convert this dataframe to an interactive table.\"\n",
              "              style=\"display:none;\">\n",
              "        \n",
              "  <svg xmlns=\"http://www.w3.org/2000/svg\" height=\"24px\"viewBox=\"0 0 24 24\"\n",
              "       width=\"24px\">\n",
              "    <path d=\"M0 0h24v24H0V0z\" fill=\"none\"/>\n",
              "    <path d=\"M18.56 5.44l.94 2.06.94-2.06 2.06-.94-2.06-.94-.94-2.06-.94 2.06-2.06.94zm-11 1L8.5 8.5l.94-2.06 2.06-.94-2.06-.94L8.5 2.5l-.94 2.06-2.06.94zm10 10l.94 2.06.94-2.06 2.06-.94-2.06-.94-.94-2.06-.94 2.06-2.06.94z\"/><path d=\"M17.41 7.96l-1.37-1.37c-.4-.4-.92-.59-1.43-.59-.52 0-1.04.2-1.43.59L10.3 9.45l-7.72 7.72c-.78.78-.78 2.05 0 2.83L4 21.41c.39.39.9.59 1.41.59.51 0 1.02-.2 1.41-.59l7.78-7.78 2.81-2.81c.8-.78.8-2.07 0-2.86zM5.41 20L4 18.59l7.72-7.72 1.47 1.35L5.41 20z\"/>\n",
              "  </svg>\n",
              "      </button>\n",
              "      \n",
              "  <style>\n",
              "    .colab-df-container {\n",
              "      display:flex;\n",
              "      flex-wrap:wrap;\n",
              "      gap: 12px;\n",
              "    }\n",
              "\n",
              "    .colab-df-convert {\n",
              "      background-color: #E8F0FE;\n",
              "      border: none;\n",
              "      border-radius: 50%;\n",
              "      cursor: pointer;\n",
              "      display: none;\n",
              "      fill: #1967D2;\n",
              "      height: 32px;\n",
              "      padding: 0 0 0 0;\n",
              "      width: 32px;\n",
              "    }\n",
              "\n",
              "    .colab-df-convert:hover {\n",
              "      background-color: #E2EBFA;\n",
              "      box-shadow: 0px 1px 2px rgba(60, 64, 67, 0.3), 0px 1px 3px 1px rgba(60, 64, 67, 0.15);\n",
              "      fill: #174EA6;\n",
              "    }\n",
              "\n",
              "    [theme=dark] .colab-df-convert {\n",
              "      background-color: #3B4455;\n",
              "      fill: #D2E3FC;\n",
              "    }\n",
              "\n",
              "    [theme=dark] .colab-df-convert:hover {\n",
              "      background-color: #434B5C;\n",
              "      box-shadow: 0px 1px 3px 1px rgba(0, 0, 0, 0.15);\n",
              "      filter: drop-shadow(0px 1px 2px rgba(0, 0, 0, 0.3));\n",
              "      fill: #FFFFFF;\n",
              "    }\n",
              "  </style>\n",
              "\n",
              "      <script>\n",
              "        const buttonEl =\n",
              "          document.querySelector('#df-35246cdc-7d57-4e25-8480-3298a7a16007 button.colab-df-convert');\n",
              "        buttonEl.style.display =\n",
              "          google.colab.kernel.accessAllowed ? 'block' : 'none';\n",
              "\n",
              "        async function convertToInteractive(key) {\n",
              "          const element = document.querySelector('#df-35246cdc-7d57-4e25-8480-3298a7a16007');\n",
              "          const dataTable =\n",
              "            await google.colab.kernel.invokeFunction('convertToInteractive',\n",
              "                                                     [key], {});\n",
              "          if (!dataTable) return;\n",
              "\n",
              "          const docLinkHtml = 'Like what you see? Visit the ' +\n",
              "            '<a target=\"_blank\" href=https://colab.research.google.com/notebooks/data_table.ipynb>data table notebook</a>'\n",
              "            + ' to learn more about interactive tables.';\n",
              "          element.innerHTML = '';\n",
              "          dataTable['output_type'] = 'display_data';\n",
              "          await google.colab.output.renderOutput(dataTable, element);\n",
              "          const docLink = document.createElement('div');\n",
              "          docLink.innerHTML = docLinkHtml;\n",
              "          element.appendChild(docLink);\n",
              "        }\n",
              "      </script>\n",
              "    </div>\n",
              "  </div>\n",
              "  "
            ]
          },
          "metadata": {},
          "execution_count": 41
        }
      ]
    },
    {
      "cell_type": "markdown",
      "source": [
        "### Routes"
      ],
      "metadata": {
        "id": "O-tpPXSsKkbA"
      }
    },
    {
      "cell_type": "code",
      "source": [
        "%%sql\n",
        "\n",
        "CREATE TABLE routes(\n",
        "    airline_code varchar(3),\n",
        "    airline_id bigint,\n",
        "    source_airport_code varchar(4),\n",
        "    source_airport_id bigint,\n",
        "    destination_airport_code varchar(4),\n",
        "    destination_airport_id bigint,\n",
        "    vcodeshare varchar(1),\n",
        "    codeshare boolean,\n",
        "    stops int,\n",
        "    equipment varchar(128)\n",
        ");"
      ],
      "metadata": {
        "id": "VyBiSVoNFDag",
        "colab": {
          "base_uri": "https://localhost:8080/"
        },
        "outputId": "8dd52433-0a59-46c3-8943-06c5e3070cc9"
      },
      "execution_count": 42,
      "outputs": [
        {
          "output_type": "stream",
          "name": "stdout",
          "text": [
            " * postgresql+psycopg2://@/postgres\n",
            "(psycopg2.errors.DuplicateTable) relation \"routes\" already exists\n",
            "\n",
            "[SQL: CREATE TABLE routes(\n",
            "    airline_code varchar(3),\n",
            "    airline_id bigint,\n",
            "    source_airport_code varchar(4),\n",
            "    source_airport_id bigint,\n",
            "    destination_airport_code varchar(4),\n",
            "    destination_airport_id bigint,\n",
            "    vcodeshare varchar(1),\n",
            "    codeshare boolean,\n",
            "    stops int,\n",
            "    equipment varchar(128)\n",
            ");]\n",
            "(Background on this error at: https://sqlalche.me/e/14/f405)\n"
          ]
        }
      ]
    },
    {
      "cell_type": "code",
      "source": [
        "!wget https://raw.githubusercontent.com/jpatokal/openflights/master/data/routes.dat"
      ],
      "metadata": {
        "id": "XLT4lcKPF9y3",
        "colab": {
          "base_uri": "https://localhost:8080/"
        },
        "outputId": "2383a4bb-1086-4410-980f-318d84813e0d"
      },
      "execution_count": 43,
      "outputs": [
        {
          "output_type": "stream",
          "name": "stdout",
          "text": [
            "--2023-04-29 03:29:12--  https://raw.githubusercontent.com/jpatokal/openflights/master/data/routes.dat\n",
            "Resolving raw.githubusercontent.com (raw.githubusercontent.com)... 185.199.108.133, 185.199.109.133, 185.199.110.133, ...\n",
            "Connecting to raw.githubusercontent.com (raw.githubusercontent.com)|185.199.108.133|:443... connected.\n",
            "HTTP request sent, awaiting response... 200 OK\n",
            "Length: 2377148 (2.3M) [text/plain]\n",
            "Saving to: ‘routes.dat.8’\n",
            "\n",
            "routes.dat.8        100%[===================>]   2.27M  --.-KB/s    in 0.06s   \n",
            "\n",
            "2023-04-29 03:29:12 (36.1 MB/s) - ‘routes.dat.8’ saved [2377148/2377148]\n",
            "\n"
          ]
        }
      ]
    },
    {
      "cell_type": "code",
      "source": [
        "%%sql\n",
        "\n",
        "COPY routes(\n",
        "    airline_code,\n",
        "    airline_id,\n",
        "    source_airport_code,\n",
        "    source_airport_id,\n",
        "    destination_airport_code,\n",
        "    destination_airport_id,\n",
        "    vcodeshare,\n",
        "    stops,\n",
        "    equipment\n",
        ") FROM '/content/routes.dat' WITH (FORMAT CSV, DELIMITER(','), NULL '\\N' );\n",
        "\n",
        "UPDATE routes\n",
        "SET codeshare = FALSE\n",
        "WHERE vcodeshare = '';\n",
        "\n",
        "UPDATE routes\n",
        "SET codeshare = TRUE\n",
        "WHERE vcodeshare = 'Y';\n",
        "\n",
        "ALTER TABLE routes DROP COLUMN vcodeshare;"
      ],
      "metadata": {
        "id": "rJ0_AJsGHeqn",
        "colab": {
          "base_uri": "https://localhost:8080/"
        },
        "outputId": "5ac05a8c-03b8-4026-bc18-05325254180c"
      },
      "execution_count": 44,
      "outputs": [
        {
          "output_type": "stream",
          "name": "stdout",
          "text": [
            " * postgresql+psycopg2://@/postgres\n",
            "(psycopg2.errors.UndefinedColumn) column \"vcodeshare\" of relation \"routes\" does not exist\n",
            "\n",
            "[SQL: COPY routes(\n",
            "    airline_code,\n",
            "    airline_id,\n",
            "    source_airport_code,\n",
            "    source_airport_id,\n",
            "    destination_airport_code,\n",
            "    destination_airport_id,\n",
            "    vcodeshare,\n",
            "    stops,\n",
            "    equipment\n",
            ") FROM '/content/routes.dat' WITH (FORMAT CSV, DELIMITER(','), NULL '\\N' );]\n",
            "(Background on this error at: https://sqlalche.me/e/14/f405)\n"
          ]
        }
      ]
    },
    {
      "cell_type": "markdown",
      "source": [
        "# Esquema"
      ],
      "metadata": {
        "id": "smqiNf_vyx69"
      }
    },
    {
      "cell_type": "markdown",
      "source": [
        "## Esquema\n",
        "\n",
        "La base de datos tiene 3 tablas: `airlines`, `airports` y `routes`. Puedes revisar el esquema en detalle [en esta página](https://openflights.org/data.html) de dónde sacamos los datos.\n",
        "\n",
        "* `airlines(id, name, alias, iata_code, icao_code, callsign, country, active)`\n",
        "* `airports(id, name, city, country, iata_code, icao_code, latitude, longitude, altitude, timezone, dst, tz, airport_type, source)`\n",
        "* `routes(airline_code, airline_id, source_airport_code, source_airport_id, destination_airport_code, destination_airport_id, codeshare, stops, equipment)`"
      ],
      "metadata": {
        "id": "32zhhNPCy2w3"
      }
    },
    {
      "cell_type": "markdown",
      "source": [
        "# Preguntas\n",
        "\n",
        "Haga consultas en SQL para obtener la siguiente información:"
      ],
      "metadata": {
        "id": "x8YY4UVnJ04V"
      }
    },
    {
      "cell_type": "markdown",
      "source": [
        "### 1. Indique los pares de aeropuertos con más vuelos de uno al otro\n"
      ],
      "metadata": {
        "id": "Y9aV0_iZMFMD"
      }
    },
    {
      "cell_type": "code",
      "source": [
        "%%sql\n",
        "SELECT routes.source_airport_code, routes.destination_airport_code, COUNT(*) --en una issue lei que aceptaban seleccionar los codigos (no necesariamente los nombres) de cada aeropuerto\n",
        "AS vuelos\n",
        "FROM routes\n",
        "GROuP BY routes.source_airport_code, routes.destination_airport_code\n",
        "ORDER BY vuelos DESC\n",
        "LIMIT 7;\n"
      ],
      "metadata": {
        "id": "nFK4eV9mMMUT",
        "colab": {
          "base_uri": "https://localhost:8080/",
          "height": 287
        },
        "outputId": "9803d5e1-3e5f-4e76-b34e-150b448386cc"
      },
      "execution_count": 45,
      "outputs": [
        {
          "output_type": "stream",
          "name": "stdout",
          "text": [
            " * postgresql+psycopg2://@/postgres\n"
          ]
        },
        {
          "output_type": "execute_result",
          "data": {
            "text/plain": [
              "  source_airport_code destination_airport_code  vuelos\n",
              "0                 ORD                      ATL      20\n",
              "1                 ATL                      ORD      19\n",
              "2                 ORD                      MSY      13\n",
              "3                 HKT                      BKK      13\n",
              "4                 MIA                      ATL      12\n",
              "5                 ATL                      MIA      12\n",
              "6                 AUH                      MCT      12"
            ],
            "text/html": [
              "\n",
              "  <div id=\"df-c15e43cb-af06-42fb-ad3f-931b111349a5\">\n",
              "    <div class=\"colab-df-container\">\n",
              "      <div>\n",
              "<style scoped>\n",
              "    .dataframe tbody tr th:only-of-type {\n",
              "        vertical-align: middle;\n",
              "    }\n",
              "\n",
              "    .dataframe tbody tr th {\n",
              "        vertical-align: top;\n",
              "    }\n",
              "\n",
              "    .dataframe thead th {\n",
              "        text-align: right;\n",
              "    }\n",
              "</style>\n",
              "<table border=\"1\" class=\"dataframe\">\n",
              "  <thead>\n",
              "    <tr style=\"text-align: right;\">\n",
              "      <th></th>\n",
              "      <th>source_airport_code</th>\n",
              "      <th>destination_airport_code</th>\n",
              "      <th>vuelos</th>\n",
              "    </tr>\n",
              "  </thead>\n",
              "  <tbody>\n",
              "    <tr>\n",
              "      <th>0</th>\n",
              "      <td>ORD</td>\n",
              "      <td>ATL</td>\n",
              "      <td>20</td>\n",
              "    </tr>\n",
              "    <tr>\n",
              "      <th>1</th>\n",
              "      <td>ATL</td>\n",
              "      <td>ORD</td>\n",
              "      <td>19</td>\n",
              "    </tr>\n",
              "    <tr>\n",
              "      <th>2</th>\n",
              "      <td>ORD</td>\n",
              "      <td>MSY</td>\n",
              "      <td>13</td>\n",
              "    </tr>\n",
              "    <tr>\n",
              "      <th>3</th>\n",
              "      <td>HKT</td>\n",
              "      <td>BKK</td>\n",
              "      <td>13</td>\n",
              "    </tr>\n",
              "    <tr>\n",
              "      <th>4</th>\n",
              "      <td>MIA</td>\n",
              "      <td>ATL</td>\n",
              "      <td>12</td>\n",
              "    </tr>\n",
              "    <tr>\n",
              "      <th>5</th>\n",
              "      <td>ATL</td>\n",
              "      <td>MIA</td>\n",
              "      <td>12</td>\n",
              "    </tr>\n",
              "    <tr>\n",
              "      <th>6</th>\n",
              "      <td>AUH</td>\n",
              "      <td>MCT</td>\n",
              "      <td>12</td>\n",
              "    </tr>\n",
              "  </tbody>\n",
              "</table>\n",
              "</div>\n",
              "      <button class=\"colab-df-convert\" onclick=\"convertToInteractive('df-c15e43cb-af06-42fb-ad3f-931b111349a5')\"\n",
              "              title=\"Convert this dataframe to an interactive table.\"\n",
              "              style=\"display:none;\">\n",
              "        \n",
              "  <svg xmlns=\"http://www.w3.org/2000/svg\" height=\"24px\"viewBox=\"0 0 24 24\"\n",
              "       width=\"24px\">\n",
              "    <path d=\"M0 0h24v24H0V0z\" fill=\"none\"/>\n",
              "    <path d=\"M18.56 5.44l.94 2.06.94-2.06 2.06-.94-2.06-.94-.94-2.06-.94 2.06-2.06.94zm-11 1L8.5 8.5l.94-2.06 2.06-.94-2.06-.94L8.5 2.5l-.94 2.06-2.06.94zm10 10l.94 2.06.94-2.06 2.06-.94-2.06-.94-.94-2.06-.94 2.06-2.06.94z\"/><path d=\"M17.41 7.96l-1.37-1.37c-.4-.4-.92-.59-1.43-.59-.52 0-1.04.2-1.43.59L10.3 9.45l-7.72 7.72c-.78.78-.78 2.05 0 2.83L4 21.41c.39.39.9.59 1.41.59.51 0 1.02-.2 1.41-.59l7.78-7.78 2.81-2.81c.8-.78.8-2.07 0-2.86zM5.41 20L4 18.59l7.72-7.72 1.47 1.35L5.41 20z\"/>\n",
              "  </svg>\n",
              "      </button>\n",
              "      \n",
              "  <style>\n",
              "    .colab-df-container {\n",
              "      display:flex;\n",
              "      flex-wrap:wrap;\n",
              "      gap: 12px;\n",
              "    }\n",
              "\n",
              "    .colab-df-convert {\n",
              "      background-color: #E8F0FE;\n",
              "      border: none;\n",
              "      border-radius: 50%;\n",
              "      cursor: pointer;\n",
              "      display: none;\n",
              "      fill: #1967D2;\n",
              "      height: 32px;\n",
              "      padding: 0 0 0 0;\n",
              "      width: 32px;\n",
              "    }\n",
              "\n",
              "    .colab-df-convert:hover {\n",
              "      background-color: #E2EBFA;\n",
              "      box-shadow: 0px 1px 2px rgba(60, 64, 67, 0.3), 0px 1px 3px 1px rgba(60, 64, 67, 0.15);\n",
              "      fill: #174EA6;\n",
              "    }\n",
              "\n",
              "    [theme=dark] .colab-df-convert {\n",
              "      background-color: #3B4455;\n",
              "      fill: #D2E3FC;\n",
              "    }\n",
              "\n",
              "    [theme=dark] .colab-df-convert:hover {\n",
              "      background-color: #434B5C;\n",
              "      box-shadow: 0px 1px 3px 1px rgba(0, 0, 0, 0.15);\n",
              "      filter: drop-shadow(0px 1px 2px rgba(0, 0, 0, 0.3));\n",
              "      fill: #FFFFFF;\n",
              "    }\n",
              "  </style>\n",
              "\n",
              "      <script>\n",
              "        const buttonEl =\n",
              "          document.querySelector('#df-c15e43cb-af06-42fb-ad3f-931b111349a5 button.colab-df-convert');\n",
              "        buttonEl.style.display =\n",
              "          google.colab.kernel.accessAllowed ? 'block' : 'none';\n",
              "\n",
              "        async function convertToInteractive(key) {\n",
              "          const element = document.querySelector('#df-c15e43cb-af06-42fb-ad3f-931b111349a5');\n",
              "          const dataTable =\n",
              "            await google.colab.kernel.invokeFunction('convertToInteractive',\n",
              "                                                     [key], {});\n",
              "          if (!dataTable) return;\n",
              "\n",
              "          const docLinkHtml = 'Like what you see? Visit the ' +\n",
              "            '<a target=\"_blank\" href=https://colab.research.google.com/notebooks/data_table.ipynb>data table notebook</a>'\n",
              "            + ' to learn more about interactive tables.';\n",
              "          element.innerHTML = '';\n",
              "          dataTable['output_type'] = 'display_data';\n",
              "          await google.colab.output.renderOutput(dataTable, element);\n",
              "          const docLink = document.createElement('div');\n",
              "          docLink.innerHTML = docLinkHtml;\n",
              "          element.appendChild(docLink);\n",
              "        }\n",
              "      </script>\n",
              "    </div>\n",
              "  </div>\n",
              "  "
            ]
          },
          "metadata": {},
          "execution_count": 45
        }
      ]
    },
    {
      "cell_type": "markdown",
      "source": [
        "### 2. Enumere todos las ciudades que conectan Santiago con Frankfurt\n"
      ],
      "metadata": {
        "id": "aWq9oOWtueHk"
      }
    },
    {
      "cell_type": "code",
      "source": [
        "%%sql\n",
        "SELECT DISTINCT airports.city\n",
        "FROM airports\n",
        "WHERE airports.id IN (\n",
        "  SELECT routes.source_airport_id --#seleccione todas los aeropuertos que eran llegada de rutas que salian de santiago y a la vez fueran salida de vuelos que llegaban a frankfurt#\n",
        "  FROM routes, airports\n",
        "  WHERE routes.destination_airport_id = airports.id\n",
        "  AND airports.city = 'Frankfurt'\n",
        ") AND airports.id IN (\n",
        "  SELECT routes.destination_airport_id\n",
        "  FROM routes, airports\n",
        "  WHERE routes.source_airport_id = airports.id\n",
        "  AND airports.city = 'Santiago'\n",
        ");\n",
        "\n"
      ],
      "metadata": {
        "id": "IlZJLIMkvCuA",
        "colab": {
          "base_uri": "https://localhost:8080/",
          "height": 1000
        },
        "outputId": "02843c02-da90-488b-a223-a3e9adfe205e"
      },
      "execution_count": 46,
      "outputs": [
        {
          "output_type": "stream",
          "name": "stdout",
          "text": [
            " * postgresql+psycopg2://@/postgres\n"
          ]
        },
        {
          "output_type": "execute_result",
          "data": {
            "text/plain": [
              "                 city\n",
              "0            Alicante\n",
              "1            Arrecife\n",
              "2             Atlanta\n",
              "3           Barcelona\n",
              "4              Bilbao\n",
              "5              Bogota\n",
              "6              Boston\n",
              "7            Brussels\n",
              "8        Buenos Aires\n",
              "9              Cancun\n",
              "10            Caracas\n",
              "11  Dallas-Fort Worth\n",
              "12             Dublin\n",
              "13             Geneva\n",
              "14       Gran Canaria\n",
              "15              Ibiza\n",
              "16             Madrid\n",
              "17             Malaga\n",
              "18        Mexico City\n",
              "19              Miami\n",
              "20           Mulhouse\n",
              "21             Newark\n",
              "22           New York\n",
              "23  Palma de Mallorca\n",
              "24              Paris\n",
              "25         Punta Cana\n",
              "26     Rio De Janeiro\n",
              "27           Salvador\n",
              "28           San Juan\n",
              "29          Sao Paulo\n",
              "30           Tenerife\n",
              "31            Toronto\n",
              "32           Valencia"
            ],
            "text/html": [
              "\n",
              "  <div id=\"df-7755e299-ec54-4208-a4f7-2658742318a9\">\n",
              "    <div class=\"colab-df-container\">\n",
              "      <div>\n",
              "<style scoped>\n",
              "    .dataframe tbody tr th:only-of-type {\n",
              "        vertical-align: middle;\n",
              "    }\n",
              "\n",
              "    .dataframe tbody tr th {\n",
              "        vertical-align: top;\n",
              "    }\n",
              "\n",
              "    .dataframe thead th {\n",
              "        text-align: right;\n",
              "    }\n",
              "</style>\n",
              "<table border=\"1\" class=\"dataframe\">\n",
              "  <thead>\n",
              "    <tr style=\"text-align: right;\">\n",
              "      <th></th>\n",
              "      <th>city</th>\n",
              "    </tr>\n",
              "  </thead>\n",
              "  <tbody>\n",
              "    <tr>\n",
              "      <th>0</th>\n",
              "      <td>Alicante</td>\n",
              "    </tr>\n",
              "    <tr>\n",
              "      <th>1</th>\n",
              "      <td>Arrecife</td>\n",
              "    </tr>\n",
              "    <tr>\n",
              "      <th>2</th>\n",
              "      <td>Atlanta</td>\n",
              "    </tr>\n",
              "    <tr>\n",
              "      <th>3</th>\n",
              "      <td>Barcelona</td>\n",
              "    </tr>\n",
              "    <tr>\n",
              "      <th>4</th>\n",
              "      <td>Bilbao</td>\n",
              "    </tr>\n",
              "    <tr>\n",
              "      <th>5</th>\n",
              "      <td>Bogota</td>\n",
              "    </tr>\n",
              "    <tr>\n",
              "      <th>6</th>\n",
              "      <td>Boston</td>\n",
              "    </tr>\n",
              "    <tr>\n",
              "      <th>7</th>\n",
              "      <td>Brussels</td>\n",
              "    </tr>\n",
              "    <tr>\n",
              "      <th>8</th>\n",
              "      <td>Buenos Aires</td>\n",
              "    </tr>\n",
              "    <tr>\n",
              "      <th>9</th>\n",
              "      <td>Cancun</td>\n",
              "    </tr>\n",
              "    <tr>\n",
              "      <th>10</th>\n",
              "      <td>Caracas</td>\n",
              "    </tr>\n",
              "    <tr>\n",
              "      <th>11</th>\n",
              "      <td>Dallas-Fort Worth</td>\n",
              "    </tr>\n",
              "    <tr>\n",
              "      <th>12</th>\n",
              "      <td>Dublin</td>\n",
              "    </tr>\n",
              "    <tr>\n",
              "      <th>13</th>\n",
              "      <td>Geneva</td>\n",
              "    </tr>\n",
              "    <tr>\n",
              "      <th>14</th>\n",
              "      <td>Gran Canaria</td>\n",
              "    </tr>\n",
              "    <tr>\n",
              "      <th>15</th>\n",
              "      <td>Ibiza</td>\n",
              "    </tr>\n",
              "    <tr>\n",
              "      <th>16</th>\n",
              "      <td>Madrid</td>\n",
              "    </tr>\n",
              "    <tr>\n",
              "      <th>17</th>\n",
              "      <td>Malaga</td>\n",
              "    </tr>\n",
              "    <tr>\n",
              "      <th>18</th>\n",
              "      <td>Mexico City</td>\n",
              "    </tr>\n",
              "    <tr>\n",
              "      <th>19</th>\n",
              "      <td>Miami</td>\n",
              "    </tr>\n",
              "    <tr>\n",
              "      <th>20</th>\n",
              "      <td>Mulhouse</td>\n",
              "    </tr>\n",
              "    <tr>\n",
              "      <th>21</th>\n",
              "      <td>Newark</td>\n",
              "    </tr>\n",
              "    <tr>\n",
              "      <th>22</th>\n",
              "      <td>New York</td>\n",
              "    </tr>\n",
              "    <tr>\n",
              "      <th>23</th>\n",
              "      <td>Palma de Mallorca</td>\n",
              "    </tr>\n",
              "    <tr>\n",
              "      <th>24</th>\n",
              "      <td>Paris</td>\n",
              "    </tr>\n",
              "    <tr>\n",
              "      <th>25</th>\n",
              "      <td>Punta Cana</td>\n",
              "    </tr>\n",
              "    <tr>\n",
              "      <th>26</th>\n",
              "      <td>Rio De Janeiro</td>\n",
              "    </tr>\n",
              "    <tr>\n",
              "      <th>27</th>\n",
              "      <td>Salvador</td>\n",
              "    </tr>\n",
              "    <tr>\n",
              "      <th>28</th>\n",
              "      <td>San Juan</td>\n",
              "    </tr>\n",
              "    <tr>\n",
              "      <th>29</th>\n",
              "      <td>Sao Paulo</td>\n",
              "    </tr>\n",
              "    <tr>\n",
              "      <th>30</th>\n",
              "      <td>Tenerife</td>\n",
              "    </tr>\n",
              "    <tr>\n",
              "      <th>31</th>\n",
              "      <td>Toronto</td>\n",
              "    </tr>\n",
              "    <tr>\n",
              "      <th>32</th>\n",
              "      <td>Valencia</td>\n",
              "    </tr>\n",
              "  </tbody>\n",
              "</table>\n",
              "</div>\n",
              "      <button class=\"colab-df-convert\" onclick=\"convertToInteractive('df-7755e299-ec54-4208-a4f7-2658742318a9')\"\n",
              "              title=\"Convert this dataframe to an interactive table.\"\n",
              "              style=\"display:none;\">\n",
              "        \n",
              "  <svg xmlns=\"http://www.w3.org/2000/svg\" height=\"24px\"viewBox=\"0 0 24 24\"\n",
              "       width=\"24px\">\n",
              "    <path d=\"M0 0h24v24H0V0z\" fill=\"none\"/>\n",
              "    <path d=\"M18.56 5.44l.94 2.06.94-2.06 2.06-.94-2.06-.94-.94-2.06-.94 2.06-2.06.94zm-11 1L8.5 8.5l.94-2.06 2.06-.94-2.06-.94L8.5 2.5l-.94 2.06-2.06.94zm10 10l.94 2.06.94-2.06 2.06-.94-2.06-.94-.94-2.06-.94 2.06-2.06.94z\"/><path d=\"M17.41 7.96l-1.37-1.37c-.4-.4-.92-.59-1.43-.59-.52 0-1.04.2-1.43.59L10.3 9.45l-7.72 7.72c-.78.78-.78 2.05 0 2.83L4 21.41c.39.39.9.59 1.41.59.51 0 1.02-.2 1.41-.59l7.78-7.78 2.81-2.81c.8-.78.8-2.07 0-2.86zM5.41 20L4 18.59l7.72-7.72 1.47 1.35L5.41 20z\"/>\n",
              "  </svg>\n",
              "      </button>\n",
              "      \n",
              "  <style>\n",
              "    .colab-df-container {\n",
              "      display:flex;\n",
              "      flex-wrap:wrap;\n",
              "      gap: 12px;\n",
              "    }\n",
              "\n",
              "    .colab-df-convert {\n",
              "      background-color: #E8F0FE;\n",
              "      border: none;\n",
              "      border-radius: 50%;\n",
              "      cursor: pointer;\n",
              "      display: none;\n",
              "      fill: #1967D2;\n",
              "      height: 32px;\n",
              "      padding: 0 0 0 0;\n",
              "      width: 32px;\n",
              "    }\n",
              "\n",
              "    .colab-df-convert:hover {\n",
              "      background-color: #E2EBFA;\n",
              "      box-shadow: 0px 1px 2px rgba(60, 64, 67, 0.3), 0px 1px 3px 1px rgba(60, 64, 67, 0.15);\n",
              "      fill: #174EA6;\n",
              "    }\n",
              "\n",
              "    [theme=dark] .colab-df-convert {\n",
              "      background-color: #3B4455;\n",
              "      fill: #D2E3FC;\n",
              "    }\n",
              "\n",
              "    [theme=dark] .colab-df-convert:hover {\n",
              "      background-color: #434B5C;\n",
              "      box-shadow: 0px 1px 3px 1px rgba(0, 0, 0, 0.15);\n",
              "      filter: drop-shadow(0px 1px 2px rgba(0, 0, 0, 0.3));\n",
              "      fill: #FFFFFF;\n",
              "    }\n",
              "  </style>\n",
              "\n",
              "      <script>\n",
              "        const buttonEl =\n",
              "          document.querySelector('#df-7755e299-ec54-4208-a4f7-2658742318a9 button.colab-df-convert');\n",
              "        buttonEl.style.display =\n",
              "          google.colab.kernel.accessAllowed ? 'block' : 'none';\n",
              "\n",
              "        async function convertToInteractive(key) {\n",
              "          const element = document.querySelector('#df-7755e299-ec54-4208-a4f7-2658742318a9');\n",
              "          const dataTable =\n",
              "            await google.colab.kernel.invokeFunction('convertToInteractive',\n",
              "                                                     [key], {});\n",
              "          if (!dataTable) return;\n",
              "\n",
              "          const docLinkHtml = 'Like what you see? Visit the ' +\n",
              "            '<a target=\"_blank\" href=https://colab.research.google.com/notebooks/data_table.ipynb>data table notebook</a>'\n",
              "            + ' to learn more about interactive tables.';\n",
              "          element.innerHTML = '';\n",
              "          dataTable['output_type'] = 'display_data';\n",
              "          await google.colab.output.renderOutput(dataTable, element);\n",
              "          const docLink = document.createElement('div');\n",
              "          docLink.innerHTML = docLinkHtml;\n",
              "          element.appendChild(docLink);\n",
              "        }\n",
              "      </script>\n",
              "    </div>\n",
              "  </div>\n",
              "  "
            ]
          },
          "metadata": {},
          "execution_count": 46
        }
      ]
    },
    {
      "cell_type": "markdown",
      "source": [
        "### 3. ¿Cuál es son los nombres de las aerolineas más grande? (La que tiene la mayor cantidad de rutas). Liste las 10 más grandes."
      ],
      "metadata": {
        "id": "4f0ejcaTliuj"
      }
    },
    {
      "cell_type": "code",
      "source": [
        "%%sql\n",
        "SELECT airlines.name, COUNT(*) AS cantidad_rutas\n",
        "FROM airlines, routes\n",
        "WHERE airlines.id = routes.airline_id\n",
        "GROUP BY airlines.name\n",
        "ORDER BY cantidad_rutas DESC\n",
        "LIMIT 10;"
      ],
      "metadata": {
        "id": "XGDXHlJOl5yX",
        "colab": {
          "base_uri": "https://localhost:8080/",
          "height": 381
        },
        "outputId": "02123463-eb1a-4681-8f79-6f9948a0bf8a"
      },
      "execution_count": 47,
      "outputs": [
        {
          "output_type": "stream",
          "name": "stdout",
          "text": [
            " * postgresql+psycopg2://@/postgres\n"
          ]
        },
        {
          "output_type": "execute_result",
          "data": {
            "text/plain": [
              "                      name  cantidad_rutas\n",
              "0                  Ryanair           22356\n",
              "1        American Airlines           21186\n",
              "2          United Airlines           19620\n",
              "3          Delta Air Lines           17829\n",
              "4               US Airways           17640\n",
              "5  China Southern Airlines           13086\n",
              "6   China Eastern Airlines           11367\n",
              "7                Air China           11340\n",
              "8       Southwest Airlines           10314\n",
              "9                  easyJet           10170"
            ],
            "text/html": [
              "\n",
              "  <div id=\"df-16603492-7a7e-42b5-a0c0-c81fb7798887\">\n",
              "    <div class=\"colab-df-container\">\n",
              "      <div>\n",
              "<style scoped>\n",
              "    .dataframe tbody tr th:only-of-type {\n",
              "        vertical-align: middle;\n",
              "    }\n",
              "\n",
              "    .dataframe tbody tr th {\n",
              "        vertical-align: top;\n",
              "    }\n",
              "\n",
              "    .dataframe thead th {\n",
              "        text-align: right;\n",
              "    }\n",
              "</style>\n",
              "<table border=\"1\" class=\"dataframe\">\n",
              "  <thead>\n",
              "    <tr style=\"text-align: right;\">\n",
              "      <th></th>\n",
              "      <th>name</th>\n",
              "      <th>cantidad_rutas</th>\n",
              "    </tr>\n",
              "  </thead>\n",
              "  <tbody>\n",
              "    <tr>\n",
              "      <th>0</th>\n",
              "      <td>Ryanair</td>\n",
              "      <td>22356</td>\n",
              "    </tr>\n",
              "    <tr>\n",
              "      <th>1</th>\n",
              "      <td>American Airlines</td>\n",
              "      <td>21186</td>\n",
              "    </tr>\n",
              "    <tr>\n",
              "      <th>2</th>\n",
              "      <td>United Airlines</td>\n",
              "      <td>19620</td>\n",
              "    </tr>\n",
              "    <tr>\n",
              "      <th>3</th>\n",
              "      <td>Delta Air Lines</td>\n",
              "      <td>17829</td>\n",
              "    </tr>\n",
              "    <tr>\n",
              "      <th>4</th>\n",
              "      <td>US Airways</td>\n",
              "      <td>17640</td>\n",
              "    </tr>\n",
              "    <tr>\n",
              "      <th>5</th>\n",
              "      <td>China Southern Airlines</td>\n",
              "      <td>13086</td>\n",
              "    </tr>\n",
              "    <tr>\n",
              "      <th>6</th>\n",
              "      <td>China Eastern Airlines</td>\n",
              "      <td>11367</td>\n",
              "    </tr>\n",
              "    <tr>\n",
              "      <th>7</th>\n",
              "      <td>Air China</td>\n",
              "      <td>11340</td>\n",
              "    </tr>\n",
              "    <tr>\n",
              "      <th>8</th>\n",
              "      <td>Southwest Airlines</td>\n",
              "      <td>10314</td>\n",
              "    </tr>\n",
              "    <tr>\n",
              "      <th>9</th>\n",
              "      <td>easyJet</td>\n",
              "      <td>10170</td>\n",
              "    </tr>\n",
              "  </tbody>\n",
              "</table>\n",
              "</div>\n",
              "      <button class=\"colab-df-convert\" onclick=\"convertToInteractive('df-16603492-7a7e-42b5-a0c0-c81fb7798887')\"\n",
              "              title=\"Convert this dataframe to an interactive table.\"\n",
              "              style=\"display:none;\">\n",
              "        \n",
              "  <svg xmlns=\"http://www.w3.org/2000/svg\" height=\"24px\"viewBox=\"0 0 24 24\"\n",
              "       width=\"24px\">\n",
              "    <path d=\"M0 0h24v24H0V0z\" fill=\"none\"/>\n",
              "    <path d=\"M18.56 5.44l.94 2.06.94-2.06 2.06-.94-2.06-.94-.94-2.06-.94 2.06-2.06.94zm-11 1L8.5 8.5l.94-2.06 2.06-.94-2.06-.94L8.5 2.5l-.94 2.06-2.06.94zm10 10l.94 2.06.94-2.06 2.06-.94-2.06-.94-.94-2.06-.94 2.06-2.06.94z\"/><path d=\"M17.41 7.96l-1.37-1.37c-.4-.4-.92-.59-1.43-.59-.52 0-1.04.2-1.43.59L10.3 9.45l-7.72 7.72c-.78.78-.78 2.05 0 2.83L4 21.41c.39.39.9.59 1.41.59.51 0 1.02-.2 1.41-.59l7.78-7.78 2.81-2.81c.8-.78.8-2.07 0-2.86zM5.41 20L4 18.59l7.72-7.72 1.47 1.35L5.41 20z\"/>\n",
              "  </svg>\n",
              "      </button>\n",
              "      \n",
              "  <style>\n",
              "    .colab-df-container {\n",
              "      display:flex;\n",
              "      flex-wrap:wrap;\n",
              "      gap: 12px;\n",
              "    }\n",
              "\n",
              "    .colab-df-convert {\n",
              "      background-color: #E8F0FE;\n",
              "      border: none;\n",
              "      border-radius: 50%;\n",
              "      cursor: pointer;\n",
              "      display: none;\n",
              "      fill: #1967D2;\n",
              "      height: 32px;\n",
              "      padding: 0 0 0 0;\n",
              "      width: 32px;\n",
              "    }\n",
              "\n",
              "    .colab-df-convert:hover {\n",
              "      background-color: #E2EBFA;\n",
              "      box-shadow: 0px 1px 2px rgba(60, 64, 67, 0.3), 0px 1px 3px 1px rgba(60, 64, 67, 0.15);\n",
              "      fill: #174EA6;\n",
              "    }\n",
              "\n",
              "    [theme=dark] .colab-df-convert {\n",
              "      background-color: #3B4455;\n",
              "      fill: #D2E3FC;\n",
              "    }\n",
              "\n",
              "    [theme=dark] .colab-df-convert:hover {\n",
              "      background-color: #434B5C;\n",
              "      box-shadow: 0px 1px 3px 1px rgba(0, 0, 0, 0.15);\n",
              "      filter: drop-shadow(0px 1px 2px rgba(0, 0, 0, 0.3));\n",
              "      fill: #FFFFFF;\n",
              "    }\n",
              "  </style>\n",
              "\n",
              "      <script>\n",
              "        const buttonEl =\n",
              "          document.querySelector('#df-16603492-7a7e-42b5-a0c0-c81fb7798887 button.colab-df-convert');\n",
              "        buttonEl.style.display =\n",
              "          google.colab.kernel.accessAllowed ? 'block' : 'none';\n",
              "\n",
              "        async function convertToInteractive(key) {\n",
              "          const element = document.querySelector('#df-16603492-7a7e-42b5-a0c0-c81fb7798887');\n",
              "          const dataTable =\n",
              "            await google.colab.kernel.invokeFunction('convertToInteractive',\n",
              "                                                     [key], {});\n",
              "          if (!dataTable) return;\n",
              "\n",
              "          const docLinkHtml = 'Like what you see? Visit the ' +\n",
              "            '<a target=\"_blank\" href=https://colab.research.google.com/notebooks/data_table.ipynb>data table notebook</a>'\n",
              "            + ' to learn more about interactive tables.';\n",
              "          element.innerHTML = '';\n",
              "          dataTable['output_type'] = 'display_data';\n",
              "          await google.colab.output.renderOutput(dataTable, element);\n",
              "          const docLink = document.createElement('div');\n",
              "          docLink.innerHTML = docLinkHtml;\n",
              "          element.appendChild(docLink);\n",
              "        }\n",
              "      </script>\n",
              "    </div>\n",
              "  </div>\n",
              "  "
            ]
          },
          "metadata": {},
          "execution_count": 47
        }
      ]
    },
    {
      "cell_type": "markdown",
      "source": [
        "### 4. ¿Cuáles son los 5 aeropuertos más importantes? (Aeropuertos de los cuáles llegan y salen más rutas)"
      ],
      "metadata": {
        "id": "D3vDPJaMdCCp"
      }
    },
    {
      "cell_type": "code",
      "source": [
        "%%sql\n",
        "SELECT airports.name, COUNT(*) AS flujos\n",
        "FROM airports, routes\n",
        "WHERE routes.destination_airport_id = airports.id --seleccione las rutas que eran destino o llegada\n",
        "OR routes.source_airport_id = airports.id \n",
        "GROUP BY airports.name\n",
        "ORDER BY flujos DESC\n",
        "LIMIT 5;\n"
      ],
      "metadata": {
        "id": "_T1kFWBUdIpl",
        "colab": {
          "base_uri": "https://localhost:8080/"
        },
        "outputId": "54fbcd11-eea0-4fa0-8006-5559d6fb9bda"
      },
      "execution_count": null,
      "outputs": [
        {
          "output_type": "stream",
          "name": "stdout",
          "text": [
            " * postgresql+psycopg2://@/postgres\n"
          ]
        }
      ]
    },
    {
      "cell_type": "code",
      "source": [],
      "metadata": {
        "id": "5tryuSGjkVNX"
      },
      "execution_count": null,
      "outputs": []
    },
    {
      "cell_type": "markdown",
      "source": [
        "### 5. Entregue todas las rutas (sin repetición) que van desde New York hacia Berlin y pasan por exactamente tres aeropuertos. Para esto entregue tres columnas con los códigos de cada uno de los aeropuertos involucrados."
      ],
      "metadata": {
        "id": "5QaDTXZy3V4w"
      }
    },
    {
      "cell_type": "code",
      "source": [],
      "metadata": {
        "id": "U3jeSGC32oIB"
      },
      "execution_count": null,
      "outputs": []
    },
    {
      "cell_type": "markdown",
      "source": [
        "### 6. Entregue los 10 aeropuertos más cercanos al aeropuerto 'Pdte. Carlos Ibañez del Campo Airport' (sin incluirlo), ordenados en distancia de forma ascendente."
      ],
      "metadata": {
        "id": "UWNZNBAKAWcd"
      }
    },
    {
      "cell_type": "markdown",
      "source": [
        "Para calcular la distancia, puede utilizar la siguiente fórmula:\n",
        "\n",
        "$$\n",
        "distancia(p1, p2) = \\sqrt{(p2.lat - p1.lat)^{2} + (p2.long - p1.long)^{2}}\n",
        "$$\n",
        "\n",
        "Es importante mencionar que esta fórmula no es precisa, pues no considera la curvatura de la tierra 😉"
      ],
      "metadata": {
        "id": "I4LcwoLvlBDR"
      }
    },
    {
      "cell_type": "code",
      "source": [
        "%%sql\n",
        "SELECT DISTINCT airports.name,\n",
        "    SQRT(POWER(airports.latitude - a1.latitude, 2) + POWER(airports.longitude - a1.longitude, 2)) AS hipotenusa\n",
        "FROM airports AS a1, airports --Cruze dos copias diferentes del mismo esquema poniendo la condicion de que una de ellas fuera 'Pdte. Carlos Ibañez del Campo Airport' y calcule la hipotenusa entre ellas.\n",
        "WHERE a1.name = 'Pdte. Carlos Ibañez del Campo Airport' AND a1.name <> airports.name\n",
        "ORDER BY hipotenusa ASC\n",
        "LIMIT 10;\n",
        " "
      ],
      "metadata": {
        "id": "UKdDBPnhAXc8",
        "colab": {
          "base_uri": "https://localhost:8080/",
          "height": 381
        },
        "outputId": "4aa6bf06-d158-47fd-95c0-6bf4c7810f94"
      },
      "execution_count": 18,
      "outputs": [
        {
          "output_type": "stream",
          "name": "stdout",
          "text": [
            " * postgresql+psycopg2://@/postgres\n"
          ]
        },
        {
          "output_type": "execute_result",
          "data": {
            "text/plain": [
              "                                       name             distance\n",
              "0  Capitan Fuentes Martinez Airport Airport  0.59135722334643043\n",
              "1         Piloto Civil N. Fernández Airport   2.0785009455867467\n",
              "2               Tte. Julio Gallardo Airport   2.1385578357867715\n",
              "3                     San Sebastián Airport   2.2269024818365981\n",
              "4                       El Calafate Airport   2.9744470449493634\n",
              "5                    Lago Argentino Airport   3.0088951271204186\n",
              "6               Malvinas Argentinas Airport   3.1520820816731597\n",
              "7      Hermes Quijada International Airport   3.2004746115545113\n",
              "8                        Santa Cruz Airport   3.7542303823293796\n",
              "9             Guardiamarina Zañartu Airport   3.7604566853259991"
            ],
            "text/html": [
              "\n",
              "  <div id=\"df-f517bb06-9bbc-4ee9-962a-5987f24b37c7\">\n",
              "    <div class=\"colab-df-container\">\n",
              "      <div>\n",
              "<style scoped>\n",
              "    .dataframe tbody tr th:only-of-type {\n",
              "        vertical-align: middle;\n",
              "    }\n",
              "\n",
              "    .dataframe tbody tr th {\n",
              "        vertical-align: top;\n",
              "    }\n",
              "\n",
              "    .dataframe thead th {\n",
              "        text-align: right;\n",
              "    }\n",
              "</style>\n",
              "<table border=\"1\" class=\"dataframe\">\n",
              "  <thead>\n",
              "    <tr style=\"text-align: right;\">\n",
              "      <th></th>\n",
              "      <th>name</th>\n",
              "      <th>distance</th>\n",
              "    </tr>\n",
              "  </thead>\n",
              "  <tbody>\n",
              "    <tr>\n",
              "      <th>0</th>\n",
              "      <td>Capitan Fuentes Martinez Airport Airport</td>\n",
              "      <td>0.59135722334643043</td>\n",
              "    </tr>\n",
              "    <tr>\n",
              "      <th>1</th>\n",
              "      <td>Piloto Civil N. Fernández Airport</td>\n",
              "      <td>2.0785009455867467</td>\n",
              "    </tr>\n",
              "    <tr>\n",
              "      <th>2</th>\n",
              "      <td>Tte. Julio Gallardo Airport</td>\n",
              "      <td>2.1385578357867715</td>\n",
              "    </tr>\n",
              "    <tr>\n",
              "      <th>3</th>\n",
              "      <td>San Sebastián Airport</td>\n",
              "      <td>2.2269024818365981</td>\n",
              "    </tr>\n",
              "    <tr>\n",
              "      <th>4</th>\n",
              "      <td>El Calafate Airport</td>\n",
              "      <td>2.9744470449493634</td>\n",
              "    </tr>\n",
              "    <tr>\n",
              "      <th>5</th>\n",
              "      <td>Lago Argentino Airport</td>\n",
              "      <td>3.0088951271204186</td>\n",
              "    </tr>\n",
              "    <tr>\n",
              "      <th>6</th>\n",
              "      <td>Malvinas Argentinas Airport</td>\n",
              "      <td>3.1520820816731597</td>\n",
              "    </tr>\n",
              "    <tr>\n",
              "      <th>7</th>\n",
              "      <td>Hermes Quijada International Airport</td>\n",
              "      <td>3.2004746115545113</td>\n",
              "    </tr>\n",
              "    <tr>\n",
              "      <th>8</th>\n",
              "      <td>Santa Cruz Airport</td>\n",
              "      <td>3.7542303823293796</td>\n",
              "    </tr>\n",
              "    <tr>\n",
              "      <th>9</th>\n",
              "      <td>Guardiamarina Zañartu Airport</td>\n",
              "      <td>3.7604566853259991</td>\n",
              "    </tr>\n",
              "  </tbody>\n",
              "</table>\n",
              "</div>\n",
              "      <button class=\"colab-df-convert\" onclick=\"convertToInteractive('df-f517bb06-9bbc-4ee9-962a-5987f24b37c7')\"\n",
              "              title=\"Convert this dataframe to an interactive table.\"\n",
              "              style=\"display:none;\">\n",
              "        \n",
              "  <svg xmlns=\"http://www.w3.org/2000/svg\" height=\"24px\"viewBox=\"0 0 24 24\"\n",
              "       width=\"24px\">\n",
              "    <path d=\"M0 0h24v24H0V0z\" fill=\"none\"/>\n",
              "    <path d=\"M18.56 5.44l.94 2.06.94-2.06 2.06-.94-2.06-.94-.94-2.06-.94 2.06-2.06.94zm-11 1L8.5 8.5l.94-2.06 2.06-.94-2.06-.94L8.5 2.5l-.94 2.06-2.06.94zm10 10l.94 2.06.94-2.06 2.06-.94-2.06-.94-.94-2.06-.94 2.06-2.06.94z\"/><path d=\"M17.41 7.96l-1.37-1.37c-.4-.4-.92-.59-1.43-.59-.52 0-1.04.2-1.43.59L10.3 9.45l-7.72 7.72c-.78.78-.78 2.05 0 2.83L4 21.41c.39.39.9.59 1.41.59.51 0 1.02-.2 1.41-.59l7.78-7.78 2.81-2.81c.8-.78.8-2.07 0-2.86zM5.41 20L4 18.59l7.72-7.72 1.47 1.35L5.41 20z\"/>\n",
              "  </svg>\n",
              "      </button>\n",
              "      \n",
              "  <style>\n",
              "    .colab-df-container {\n",
              "      display:flex;\n",
              "      flex-wrap:wrap;\n",
              "      gap: 12px;\n",
              "    }\n",
              "\n",
              "    .colab-df-convert {\n",
              "      background-color: #E8F0FE;\n",
              "      border: none;\n",
              "      border-radius: 50%;\n",
              "      cursor: pointer;\n",
              "      display: none;\n",
              "      fill: #1967D2;\n",
              "      height: 32px;\n",
              "      padding: 0 0 0 0;\n",
              "      width: 32px;\n",
              "    }\n",
              "\n",
              "    .colab-df-convert:hover {\n",
              "      background-color: #E2EBFA;\n",
              "      box-shadow: 0px 1px 2px rgba(60, 64, 67, 0.3), 0px 1px 3px 1px rgba(60, 64, 67, 0.15);\n",
              "      fill: #174EA6;\n",
              "    }\n",
              "\n",
              "    [theme=dark] .colab-df-convert {\n",
              "      background-color: #3B4455;\n",
              "      fill: #D2E3FC;\n",
              "    }\n",
              "\n",
              "    [theme=dark] .colab-df-convert:hover {\n",
              "      background-color: #434B5C;\n",
              "      box-shadow: 0px 1px 3px 1px rgba(0, 0, 0, 0.15);\n",
              "      filter: drop-shadow(0px 1px 2px rgba(0, 0, 0, 0.3));\n",
              "      fill: #FFFFFF;\n",
              "    }\n",
              "  </style>\n",
              "\n",
              "      <script>\n",
              "        const buttonEl =\n",
              "          document.querySelector('#df-f517bb06-9bbc-4ee9-962a-5987f24b37c7 button.colab-df-convert');\n",
              "        buttonEl.style.display =\n",
              "          google.colab.kernel.accessAllowed ? 'block' : 'none';\n",
              "\n",
              "        async function convertToInteractive(key) {\n",
              "          const element = document.querySelector('#df-f517bb06-9bbc-4ee9-962a-5987f24b37c7');\n",
              "          const dataTable =\n",
              "            await google.colab.kernel.invokeFunction('convertToInteractive',\n",
              "                                                     [key], {});\n",
              "          if (!dataTable) return;\n",
              "\n",
              "          const docLinkHtml = 'Like what you see? Visit the ' +\n",
              "            '<a target=\"_blank\" href=https://colab.research.google.com/notebooks/data_table.ipynb>data table notebook</a>'\n",
              "            + ' to learn more about interactive tables.';\n",
              "          element.innerHTML = '';\n",
              "          dataTable['output_type'] = 'display_data';\n",
              "          await google.colab.output.renderOutput(dataTable, element);\n",
              "          const docLink = document.createElement('div');\n",
              "          docLink.innerHTML = docLinkHtml;\n",
              "          element.appendChild(docLink);\n",
              "        }\n",
              "      </script>\n",
              "    </div>\n",
              "  </div>\n",
              "  "
            ]
          },
          "metadata": {},
          "execution_count": 18
        }
      ]
    }
  ],
  "metadata": {
    "colab": {
      "provenance": [],
      "collapsed_sections": [
        "Muxt3i7yyjnn",
        "Y9aV0_iZMFMD",
        "aWq9oOWtueHk",
        "4f0ejcaTliuj",
        "D3vDPJaMdCCp",
        "5QaDTXZy3V4w",
        "UWNZNBAKAWcd"
      ]
    },
    "kernelspec": {
      "display_name": "Python 3 (ipykernel)",
      "language": "python",
      "name": "python3"
    },
    "language_info": {
      "codemirror_mode": {
        "name": "ipython",
        "version": 3
      },
      "file_extension": ".py",
      "mimetype": "text/x-python",
      "name": "python",
      "nbconvert_exporter": "python",
      "pygments_lexer": "ipython3",
      "version": "3.10.4"
    }
  },
  "nbformat": 4,
  "nbformat_minor": 0
}